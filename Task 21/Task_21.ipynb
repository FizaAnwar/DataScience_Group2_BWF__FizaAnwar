{
  "nbformat": 4,
  "nbformat_minor": 0,
  "metadata": {
    "colab": {
      "provenance": []
    },
    "kernelspec": {
      "name": "python3",
      "display_name": "Python 3"
    },
    "language_info": {
      "name": "python"
    }
  },
  "cells": [
    {
      "cell_type": "markdown",
      "source": [
        "Linear Algebra Tasks\n",
        "\n",
        "Matrix Creation and Manipulation\n"
      ],
      "metadata": {
        "id": "7l2VHPlVxCDP"
      }
    },
    {
      "cell_type": "markdown",
      "source": [
        "Create various types of matrices (zero matrix, identity matrix, random matrix)."
      ],
      "metadata": {
        "id": "0XD1ceEIxnXK"
      }
    },
    {
      "cell_type": "code",
      "execution_count": 6,
      "metadata": {
        "colab": {
          "base_uri": "https://localhost:8080/"
        },
        "id": "3wrECLiEIAUu",
        "outputId": "76962984-5289-441c-c2ec-03d4c3ca81fb"
      },
      "outputs": [
        {
          "output_type": "stream",
          "name": "stdout",
          "text": [
            "Zero Matrix:\n",
            " [[0. 0. 0. 0.]\n",
            " [0. 0. 0. 0.]\n",
            " [0. 0. 0. 0.]\n",
            " [0. 0. 0. 0.]]\n",
            "\n",
            "Identity Matrix:\n",
            " [[1. 0. 0. 0.]\n",
            " [0. 1. 0. 0.]\n",
            " [0. 0. 1. 0.]\n",
            " [0. 0. 0. 1.]]\n",
            "\n",
            "Random Matrix:\n",
            " [[0.30440259 0.24230233 0.14608704 0.20106763]\n",
            " [0.08181121 0.77266051 0.21225901 0.48815156]\n",
            " [0.5902244  0.58713028 0.2914264  0.20490597]\n",
            " [0.60395792 0.71899946 0.27939434 0.83410728]]\n"
          ]
        }
      ],
      "source": [
        "import numpy as np\n",
        "# Creating matrices\n",
        "\n",
        "# Zero Matrix\n",
        "zero_matrix = np.zeros((4, 4))\n",
        "print(\"Zero Matrix:\\n\", zero_matrix)\n",
        "\n",
        "# Identity Matrix\n",
        "identity_matrix = np.eye(4)\n",
        "print(\"\\nIdentity Matrix:\\n\", identity_matrix)\n",
        "\n",
        "# Random Matrix\n",
        "random_matrix = np.random.random((4, 4))\n",
        "print(\"\\nRandom Matrix:\\n\", random_matrix)"
      ]
    },
    {
      "cell_type": "markdown",
      "source": [
        "Perform basic matrix operations (addition, subtraction, multiplication).\n"
      ],
      "metadata": {
        "id": "OejGoxJvxo9Q"
      }
    },
    {
      "cell_type": "code",
      "source": [
        "matrix_sum = zero_matrix + identity_matrix\n",
        "print(\"Addittion Matrix\\n\", matrix_sum)\n",
        "\n",
        "# Subtraction\n",
        "matrix_diff = identity_matrix - random_matrix\n",
        "print(\"Matrix Subtraction:\\n\", matrix_diff)\n",
        "\n",
        "# Multiplication\n",
        "matrix_product = np.dot(identity_matrix, random_matrix)\n",
        "print(\"Matrix Multiplication:\\n\", matrix_product)"
      ],
      "metadata": {
        "colab": {
          "base_uri": "https://localhost:8080/"
        },
        "id": "CNd99-EMxYRt",
        "outputId": "93af2d47-c0e2-4d3c-9562-3f145934fecb"
      },
      "execution_count": 7,
      "outputs": [
        {
          "output_type": "stream",
          "name": "stdout",
          "text": [
            "Addittion Matrix\n",
            " [[1. 0. 0. 0.]\n",
            " [0. 1. 0. 0.]\n",
            " [0. 0. 1. 0.]\n",
            " [0. 0. 0. 1.]]\n",
            "Matrix Subtraction:\n",
            " [[ 0.69559741 -0.24230233 -0.14608704 -0.20106763]\n",
            " [-0.08181121  0.22733949 -0.21225901 -0.48815156]\n",
            " [-0.5902244  -0.58713028  0.7085736  -0.20490597]\n",
            " [-0.60395792 -0.71899946 -0.27939434  0.16589272]]\n",
            "Matrix Multiplication:\n",
            " [[0.30440259 0.24230233 0.14608704 0.20106763]\n",
            " [0.08181121 0.77266051 0.21225901 0.48815156]\n",
            " [0.5902244  0.58713028 0.2914264  0.20490597]\n",
            " [0.60395792 0.71899946 0.27939434 0.83410728]]\n"
          ]
        }
      ]
    },
    {
      "cell_type": "markdown",
      "source": [
        "Transpose a matrix and find the determinant and inverse of a matrix."
      ],
      "metadata": {
        "id": "ihYtpoo8yMwv"
      }
    },
    {
      "cell_type": "code",
      "source": [
        "# Transpose\n",
        "transpose_matrix = np.transpose(random_matrix)\n",
        "print(\"\\nTransposed Matrix:\\n\", transpose_matrix)"
      ],
      "metadata": {
        "colab": {
          "base_uri": "https://localhost:8080/"
        },
        "id": "WrMTonxIx8ix",
        "outputId": "d19e377e-7dac-4b18-a4fa-e9a5cbc6ea9d"
      },
      "execution_count": 8,
      "outputs": [
        {
          "output_type": "stream",
          "name": "stdout",
          "text": [
            "\n",
            "Transposed Matrix:\n",
            " [[0.30440259 0.08181121 0.5902244  0.60395792]\n",
            " [0.24230233 0.77266051 0.58713028 0.71899946]\n",
            " [0.14608704 0.21225901 0.2914264  0.27939434]\n",
            " [0.20106763 0.48815156 0.20490597 0.83410728]]\n"
          ]
        }
      ]
    },
    {
      "cell_type": "markdown",
      "source": [
        "Solving Linear Equations\n",
        "\n",
        "Use NumPy to solve a system of linear equations.\n"
      ],
      "metadata": {
        "id": "ZrKVN_5QZwnJ"
      }
    },
    {
      "cell_type": "code",
      "source": [
        "# Solving Linear Equations using NumPy\n",
        "\n",
        "# System of equations:\n",
        "# 2x + 3y = 5\n",
        "# 4x + y = 6\n",
        "A = np.array([[2, 3], [4, 1]])\n",
        "b = np.array([5, 6])\n",
        "\n",
        "# Solving Ax = b\n",
        "solution = np.linalg.solve(A, b)\n",
        "print(\"\\nSolution to the system of equations:\\n\", solution)\n",
        "\n"
      ],
      "metadata": {
        "id": "x66MxsU5ySHc",
        "colab": {
          "base_uri": "https://localhost:8080/"
        },
        "outputId": "45de029e-2e81-4509-cbe6-c3e94622e11a"
      },
      "execution_count": 9,
      "outputs": [
        {
          "output_type": "stream",
          "name": "stdout",
          "text": [
            "\n",
            "Solution to the system of equations:\n",
            " [1.3 0.8]\n"
          ]
        }
      ]
    },
    {
      "cell_type": "markdown",
      "source": [
        "Implement matrix factorization methods (LU decomposition, QR decomposition).\n"
      ],
      "metadata": {
        "id": "PSxjjwUCaYqL"
      }
    },
    {
      "cell_type": "code",
      "source": [
        "# LU Decomposition\n",
        "from scipy.linalg import lu\n",
        "\n",
        "P, L, U = lu(A)\n",
        "print(\"\\nLU Decomposition:\\nP:\\n\", P, \"\\nL:\\n\", L, \"\\nU:\\n\", U)\n",
        "\n",
        "# QR Decomposition\n",
        "Q, R = np.linalg.qr(A)\n",
        "print(\"\\nQR Decomposition:\\nQ:\\n\", Q, \"\\nR:\\n\", R)"
      ],
      "metadata": {
        "colab": {
          "base_uri": "https://localhost:8080/"
        },
        "id": "t4aeIIFUaCEd",
        "outputId": "3a8c5438-1419-4f4e-90df-1537695cd3ac"
      },
      "execution_count": 10,
      "outputs": [
        {
          "output_type": "stream",
          "name": "stdout",
          "text": [
            "\n",
            "LU Decomposition:\n",
            "P:\n",
            " [[0. 1.]\n",
            " [1. 0.]] \n",
            "L:\n",
            " [[1.  0. ]\n",
            " [0.5 1. ]] \n",
            "U:\n",
            " [[4.  1. ]\n",
            " [0.  2.5]]\n",
            "\n",
            "QR Decomposition:\n",
            "Q:\n",
            " [[-0.4472136  -0.89442719]\n",
            " [-0.89442719  0.4472136 ]] \n",
            "R:\n",
            " [[-4.47213595 -2.23606798]\n",
            " [ 0.         -2.23606798]]\n"
          ]
        }
      ]
    },
    {
      "cell_type": "markdown",
      "source": [
        "Eigenvalues and Eigenvectors\n",
        "\n",
        "Calculate the eigenvalues and eigenvectors of a given matrix.\n",
        "\n",
        "Verify the results by reconstructing the original matrix.\n"
      ],
      "metadata": {
        "id": "OCHLnm7SacnF"
      }
    },
    {
      "cell_type": "code",
      "source": [
        "# Eigenvalues and Eigenvectors\n",
        "\n",
        "matrix = np.array([[4, -2], [1, 1]])\n",
        "\n",
        "eigenvalues, eigenvectors = np.linalg.eig(matrix)\n",
        "print(\"\\nEigenvalues:\\n\", eigenvalues)\n",
        "print(\"\\nEigenvectors:\\n\", eigenvectors)\n",
        "\n",
        "# Verifying the result by reconstructing the original matrix\n",
        "reconstructed_matrix = eigenvectors @ np.diag(eigenvalues) @ np.linalg.inv(eigenvectors)\n",
        "print(\"\\nReconstructed Matrix:\\n\", reconstructed_matrix)\n"
      ],
      "metadata": {
        "colab": {
          "base_uri": "https://localhost:8080/"
        },
        "id": "-QHFCaLSaasz",
        "outputId": "a14750d2-176a-4eea-8872-5fb2d2976c49"
      },
      "execution_count": 11,
      "outputs": [
        {
          "output_type": "stream",
          "name": "stdout",
          "text": [
            "\n",
            "Eigenvalues:\n",
            " [3. 2.]\n",
            "\n",
            "Eigenvectors:\n",
            " [[0.89442719 0.70710678]\n",
            " [0.4472136  0.70710678]]\n",
            "\n",
            "Reconstructed Matrix:\n",
            " [[ 4. -2.]\n",
            " [ 1.  1.]]\n"
          ]
        }
      ]
    },
    {
      "cell_type": "markdown",
      "source": [
        "Vector Operations\n",
        "\n",
        "Perform basic vector operations (addition, dot product, cross product).\n",
        "\n",
        "Normalize a vector and compute vector norms.\n"
      ],
      "metadata": {
        "id": "nXxSsY3Laud7"
      }
    },
    {
      "cell_type": "code",
      "source": [
        "# Vector Operations\n",
        "\n",
        "vector1 = np.array([1, 2, 3])\n",
        "vector2 = np.array([4, 5, 6])\n",
        "\n",
        "# Addition\n",
        "vector_sum = vector1 + vector2\n",
        "print(\"\\nVector Addition:\\n\", vector_sum)\n",
        "\n",
        "# Dot Product\n",
        "dot_product = np.dot(vector1, vector2)\n",
        "print(\"\\nDot Product:\\n\", dot_product)\n",
        "\n",
        "# Cross Product\n",
        "cross_product = np.cross(vector1, vector2)\n",
        "print(\"\\nCross Product:\\n\", cross_product)\n",
        "\n",
        "# Normalization\n",
        "vector_norm = np.linalg.norm(vector1)\n",
        "normalized_vector = vector1 / vector_norm\n",
        "print(\"\\nNormalized Vector:\\n\", normalized_vector)\n",
        "\n",
        "# Vector Norms\n",
        "l1_norm = np.linalg.norm(vector1, 1)\n",
        "l2_norm = np.linalg.norm(vector1, 2)\n",
        "print(\"\\nL1 Norm:\\n\", l1_norm)\n",
        "print(\"\\nL2 Norm:\\n\", l2_norm)\n"
      ],
      "metadata": {
        "colab": {
          "base_uri": "https://localhost:8080/"
        },
        "id": "5Hb1ma11ap_l",
        "outputId": "864e8965-8ef0-470d-fbb9-a256c2214a67"
      },
      "execution_count": 12,
      "outputs": [
        {
          "output_type": "stream",
          "name": "stdout",
          "text": [
            "\n",
            "Vector Addition:\n",
            " [5 7 9]\n",
            "\n",
            "Dot Product:\n",
            " 32\n",
            "\n",
            "Cross Product:\n",
            " [-3  6 -3]\n",
            "\n",
            "Normalized Vector:\n",
            " [0.26726124 0.53452248 0.80178373]\n",
            "\n",
            "L1 Norm:\n",
            " 6.0\n",
            "\n",
            "L2 Norm:\n",
            " 3.7416573867739413\n"
          ]
        }
      ]
    },
    {
      "cell_type": "markdown",
      "source": [
        "Matrix Decomposition\n",
        "Understand and implement Principal Component Analysis (PCA) using SVD.\n"
      ],
      "metadata": {
        "id": "iiRMRpSja8VZ"
      }
    },
    {
      "cell_type": "code",
      "source": [
        "# Principal Component Analysis (PCA) using SVD\n",
        "\n",
        "# Generating a random matrix\n",
        "np.random.seed(0)\n",
        "data_matrix = np.random.rand(5, 3)\n",
        "\n",
        "# SVD Decomposition\n",
        "U, S, Vt = np.linalg.svd(data_matrix, full_matrices=False)\n",
        "print(\"\\nSVD Decomposition:\\nU:\\n\", U, \"\\nS:\\n\", S, \"\\nVt:\\n\", Vt)\n",
        "\n",
        "# PCA using SVD\n",
        "# Principal components are the columns of Vt\n",
        "principal_components = Vt.T\n",
        "print(\"\\nPrincipal Components:\\n\", principal_components)\n"
      ],
      "metadata": {
        "colab": {
          "base_uri": "https://localhost:8080/"
        },
        "id": "hAl0NqE_a2Rq",
        "outputId": "467a58bb-b4cb-4b40-daf0-74e314ef0559"
      },
      "execution_count": 13,
      "outputs": [
        {
          "output_type": "stream",
          "name": "stdout",
          "text": [
            "\n",
            "SVD Decomposition:\n",
            "U:\n",
            " [[-0.45123442  0.03197382  0.25685819]\n",
            " [-0.37472871  0.3259849   0.74454664]\n",
            " [-0.56437838  0.40661144 -0.49026357]\n",
            " [-0.42559538 -0.07056365 -0.36205226]\n",
            " [-0.3953625  -0.84994084  0.0907412 ]] \n",
            "S:\n",
            " [2.39745183 0.62848817 0.28324302] \n",
            "Vt:\n",
            " [[-0.45321709 -0.70394399 -0.54686117]\n",
            " [-0.2176047  -0.5075543   0.83368868]\n",
            " [ 0.86443188 -0.49684152 -0.07685076]]\n",
            "\n",
            "Principal Components:\n",
            " [[-0.45321709 -0.2176047   0.86443188]\n",
            " [-0.70394399 -0.5075543  -0.49684152]\n",
            " [-0.54686117  0.83368868 -0.07685076]]\n"
          ]
        }
      ]
    },
    {
      "cell_type": "markdown",
      "source": [
        "Calculus"
      ],
      "metadata": {
        "id": "p1xYzTsKbFVX"
      }
    },
    {
      "cell_type": "markdown",
      "source": [
        "Numerical Differentiation\n",
        "\n",
        "Use NumPy to compute the numerical derivative of a given function.\n",
        "\n",
        "Implement forward, backward, and central difference methods for differentiation.\n"
      ],
      "metadata": {
        "id": "f_zMEoHFZYL0"
      }
    },
    {
      "cell_type": "code",
      "source": [
        "import numpy as np\n",
        "\n",
        "# Function to differentiate\n",
        "def f(x):\n",
        "    return np.sin(x)\n",
        "\n",
        "# Numerical differentiation methods\n",
        "def forward_difference(f, x, h):\n",
        "    return (f(x + h) - f(x)) / h\n",
        "\n",
        "def backward_difference(f, x, h):\n",
        "    return (f(x) - f(x - h)) / h\n",
        "\n",
        "def central_difference(f, x, h):\n",
        "    return (f(x + h) - f(x - h)) / (2 * h)\n",
        "\n",
        "# Parameters\n",
        "x = np.pi / 4  # Point at which to differentiate\n",
        "h = 1e-5       # Small step size\n",
        "\n",
        "# Compute derivatives\n",
        "forward_diff = forward_difference(f, x, h)\n",
        "backward_diff = backward_difference(f, x, h)\n",
        "central_diff = central_difference(f, x, h)\n",
        "\n",
        "print(\"Forward Difference:\", forward_diff)\n",
        "print(\"Backward Difference:\", backward_diff)\n",
        "print(\"Central Difference:\", central_diff)\n"
      ],
      "metadata": {
        "colab": {
          "base_uri": "https://localhost:8080/"
        },
        "id": "9RqNqykNbBGp",
        "outputId": "44443bf2-9723-422f-a6a6-aa1e6d571c8e"
      },
      "execution_count": 14,
      "outputs": [
        {
          "output_type": "stream",
          "name": "stdout",
          "text": [
            "Forward Difference: 0.7071032456451575\n",
            "Backward Difference: 0.7071103167000102\n",
            "Central Difference: 0.7071067811725839\n"
          ]
        }
      ]
    },
    {
      "cell_type": "markdown",
      "source": [
        "Numerical Integration\n",
        "\n",
        "Use NumPy to compute the numerical integral of a given function.\n",
        "\n",
        "Implement the trapezoidal rule and Simpson's rule for integration.\n"
      ],
      "metadata": {
        "id": "Bk3tQOPQZ55Z"
      }
    },
    {
      "cell_type": "code",
      "source": [
        "# Function to integrate\n",
        "def f(x):\n",
        "    return np.sin(x)\n",
        "\n",
        "# Numerical integration methods\n",
        "def trapezoidal_rule(f, a, b, n):\n",
        "    x = np.linspace(a, b, n+1)\n",
        "    y = f(x)\n",
        "    h = (b - a) / n\n",
        "    return (h/2) * (y[0] + 2 * np.sum(y[1:n]) + y[n])\n",
        "\n",
        "def simpsons_rule(f, a, b, n):\n",
        "    if n % 2 == 1:  # n must be even\n",
        "        n += 1\n",
        "    x = np.linspace(a, b, n+1)\n",
        "    y = f(x)\n",
        "    h = (b - a) / n\n",
        "    return (h/3) * (y[0] + 4 * np.sum(y[1:n:2]) + 2 * np.sum(y[2:n-1:2]) + y[n])\n",
        "\n",
        "# Parameters\n",
        "a = 0            # Start of interval\n",
        "b = np.pi        # End of interval\n",
        "n = 1000         # Number of subintervals\n",
        "\n",
        "# Compute integrals\n",
        "trapezoidal_integral = trapezoidal_rule(f, a, b, n)\n",
        "simpsons_integral = simpsons_rule(f, a, b, n)\n",
        "\n",
        "print(\"Trapezoidal Rule:\", trapezoidal_integral)\n",
        "print(\"Simpson's Rule:\", simpsons_integral)\n"
      ],
      "metadata": {
        "colab": {
          "base_uri": "https://localhost:8080/"
        },
        "id": "rfbQxORMZhGt",
        "outputId": "dc5d8c67-9c23-4353-fc60-ff0be8048d2d"
      },
      "execution_count": 15,
      "outputs": [
        {
          "output_type": "stream",
          "name": "stdout",
          "text": [
            "Trapezoidal Rule: 1.9999983550656624\n",
            "Simpson's Rule: 2.0000000000010827\n"
          ]
        }
      ]
    },
    {
      "cell_type": "markdown",
      "source": [
        "Partial Derivatives\n",
        "\n",
        "Calculate partial derivatives of multivariable functions using NumPy.\n",
        "\n",
        "Verify results by comparing with analytical solutions.\n"
      ],
      "metadata": {
        "id": "78K7dbzjaKrF"
      }
    },
    {
      "cell_type": "code",
      "source": [
        "# Multivariable function\n",
        "def f(x, y):\n",
        "    return x**2 + y**2\n",
        "\n",
        "# Partial derivatives\n",
        "def partial_derivative_x(f, x, y, h):\n",
        "    return (f(x + h, y) - f(x, y)) / h\n",
        "\n",
        "def partial_derivative_y(f, x, y, h):\n",
        "    return (f(x, y + h) - f(x, y)) / h\n",
        "\n",
        "# Parameters\n",
        "x = 1.0\n",
        "y = 1.0\n",
        "h = 1e-5\n",
        "\n",
        "# Compute partial derivatives\n",
        "partial_x = partial_derivative_x(f, x, y, h)\n",
        "partial_y = partial_derivative_y(f, x, y, h)\n",
        "\n",
        "print(\"Partial Derivative with respect to x:\", partial_x)\n",
        "print(\"Partial Derivative with respect to y:\", partial_y)\n",
        "\n",
        "# Analytical partial derivatives\n",
        "analytical_partial_x = 2 * x\n",
        "analytical_partial_y = 2 * y\n",
        "\n",
        "print(\"Analytical Partial Derivative with respect to x:\", analytical_partial_x)\n",
        "print(\"Analytical Partial Derivative with respect to y:\", analytical_partial_y)\n"
      ],
      "metadata": {
        "id": "DyolH51oaCM8",
        "outputId": "02a45f1b-a9f4-4609-e79d-0080d244053c",
        "colab": {
          "base_uri": "https://localhost:8080/"
        }
      },
      "execution_count": 16,
      "outputs": [
        {
          "output_type": "stream",
          "name": "stdout",
          "text": [
            "Partial Derivative with respect to x: 2.00001000001393\n",
            "Partial Derivative with respect to y: 2.00001000001393\n",
            "Analytical Partial Derivative with respect to x: 2.0\n",
            "Analytical Partial Derivative with respect to y: 2.0\n"
          ]
        }
      ]
    },
    {
      "cell_type": "markdown",
      "source": [
        "Optimization\n",
        "\n",
        "Use NumPy to solve optimization problems with constraints.\n"
      ],
      "metadata": {
        "id": "w1OzZainaWjw"
      }
    },
    {
      "cell_type": "code",
      "source": [
        "from scipy.optimize import minimize\n",
        "\n",
        "# Objective function\n",
        "def objective(x):\n",
        "    return x[0]**2 + x[1]**2\n",
        "\n",
        "# Constraint\n",
        "def constraint(x):\n",
        "    return x[0] + x[1] - 1\n",
        "\n",
        "# Initial guess\n",
        "x0 = [0.5, 0.5]\n",
        "\n",
        "# Constraints dictionary\n",
        "cons = {'type': 'eq', 'fun': constraint}\n",
        "\n",
        "# Bounds for variables\n",
        "bnds = ((0, None), (0, None))\n",
        "\n",
        "# Solve optimization problem\n",
        "solution = minimize(objective, x0, method='SLSQP', bounds=bnds, constraints=cons)\n",
        "\n",
        "print(\"Solution to the optimization problem:\")\n",
        "print(\"x:\", solution.x)\n",
        "print(\"Objective function value:\", solution.fun)\n"
      ],
      "metadata": {
        "id": "BfW9PFugaRN2",
        "outputId": "a686a6e6-9f21-488e-d253-23c9bcb72927",
        "colab": {
          "base_uri": "https://localhost:8080/"
        }
      },
      "execution_count": 17,
      "outputs": [
        {
          "output_type": "stream",
          "name": "stdout",
          "text": [
            "Solution to the optimization problem:\n",
            "x: [0.5 0.5]\n",
            "Objective function value: 0.5\n"
          ]
        }
      ]
    },
    {
      "cell_type": "code",
      "source": [],
      "metadata": {
        "id": "OXkc_FkKabab"
      },
      "execution_count": 17,
      "outputs": []
    }
  ]
}