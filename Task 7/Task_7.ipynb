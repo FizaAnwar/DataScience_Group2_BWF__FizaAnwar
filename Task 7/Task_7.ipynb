{
  "nbformat": 4,
  "nbformat_minor": 0,
  "metadata": {
    "colab": {
      "provenance": []
    },
    "kernelspec": {
      "name": "python3",
      "display_name": "Python 3"
    },
    "language_info": {
      "name": "python"
    }
  },
  "cells": [
    {
      "cell_type": "code",
      "execution_count": 1,
      "metadata": {
        "id": "8y6GyJkM1qcC"
      },
      "outputs": [],
      "source": [
        "class Book:\n",
        "    def __init__(self, title, author, ISBN):\n",
        "        self.title = title\n",
        "        self.author = author\n",
        "        self.ISBN = ISBN\n",
        "        self.status = \"available\"\n",
        "\n",
        "    def display_info(self):\n",
        "        print(f\"Title: {self.title}, Author: {self.author}, ISBN: {self.ISBN}, Status: {self.status}\")\n",
        "\n",
        "    def mark_as_borrowed(self):\n",
        "        if self.status == \"available\":\n",
        "            self.status = \"borrowed\"\n",
        "            print(f\"{self.title} has been borrowed.\")\n",
        "        else:\n",
        "            print(f\"{self.title} is already borrowed.\")\n",
        "\n",
        "    def mark_as_returned(self):\n",
        "        if self.status == \"borrowed\":\n",
        "            self.status = \"available\"\n",
        "            print(f\"{self.title} has been returned.\")\n",
        "        else:\n",
        "            print(f\"{self.title} is already available.\")\n"
      ]
    },
    {
      "cell_type": "code",
      "source": [
        "class Member:\n",
        "    def __init__(self, name, member_id):\n",
        "        self.name = name\n",
        "        self.member_id = member_id\n",
        "        self.borrowed_books = []\n",
        "\n",
        "    def borrow_book(self, book):\n",
        "        if book.status == \"available\":\n",
        "            book.mark_as_borrowed()\n",
        "            self.borrowed_books.append(book)\n",
        "            print(f\"{self.name} borrowed {book.title}.\")\n",
        "        else:\n",
        "            print(f\"{self.name} cannot borrow {book.title} because it is already borrowed.\")\n",
        "\n",
        "    def return_book(self, book):\n",
        "        if book in self.borrowed_books:\n",
        "            book.mark_as_returned()\n",
        "            self.borrowed_books.remove(book)\n",
        "            print(f\"{self.name} returned {book.title}.\")\n",
        "        else:\n",
        "            print(f\"{self.name} does not have {book.title}.\")\n",
        "\n",
        "    def display_info(self):\n",
        "        print(f\"Member Name: {self.name}, Member ID: {self.member_id}, Borrowed Books: {[book.title for book in self.borrowed_books]}\")\n"
      ],
      "metadata": {
        "id": "2bkMtvW911FR"
      },
      "execution_count": 2,
      "outputs": []
    },
    {
      "cell_type": "code",
      "source": [
        "class Library:\n",
        "    def __init__(self):\n",
        "        self.books = []\n",
        "        self.members = []\n",
        "\n",
        "    def add_book(self, book):\n",
        "        self.books.append(book)\n",
        "        print(f\"Added book: {book.title}\")\n",
        "\n",
        "    def register_member(self, member):\n",
        "        self.members.append(member)\n",
        "        print(f\"Registered member: {member.name}\")\n",
        "\n",
        "    def issue_book(self, member_id, ISBN):\n",
        "        member = next((m for m in self.members if m.member_id == member_id), None)\n",
        "        book = next((b for b in self.books if b.ISBN == ISBN), None)\n",
        "        if member and book:\n",
        "            member.borrow_book(book)\n",
        "        else:\n",
        "            print(\"Member or Book not found.\")\n",
        "\n",
        "    def return_book(self, member_id, ISBN):\n",
        "        member = next((m for m in self.members if m.member_id == member_id), None)\n",
        "        book = next((b for b in self.books if b.ISBN == ISBN), None)\n",
        "        if member and book:\n",
        "            member.return_book(book)\n",
        "        else:\n",
        "            print(\"Member or Book not found.\")\n",
        "\n",
        "    def display_all_books(self):\n",
        "        for book in self.books:\n",
        "            book.display_info()\n",
        "\n",
        "    def display_all_members(self):\n",
        "        for member in self.members:\n",
        "            member.display_info()\n"
      ],
      "metadata": {
        "id": "aIBuxZrS16Z6"
      },
      "execution_count": 3,
      "outputs": []
    },
    {
      "cell_type": "code",
      "source": [
        "\n",
        "library = Library()\n",
        "\n",
        "\n",
        "book1 = Book(\"1984\", \"George Orwell\", \"1234567890\")\n",
        "book2 = Book(\"To Kill a Mockingbird\", \"Harper Lee\", \"0987654321\")\n",
        "library.add_book(book1)\n",
        "library.add_book(book2)\n",
        "\n",
        "\n",
        "member1 = Member(\"Alice\", \"M001\")\n",
        "member2 = Member(\"Bob\", \"M002\")\n",
        "library.register_member(member1)\n",
        "library.register_member(member2)\n",
        "\n",
        "\n",
        "library.display_all_books()\n",
        "library.display_all_members()\n",
        "\n",
        "\n",
        "library.issue_book(\"M001\", \"1234567890\")\n",
        "library.issue_book(\"M002\", \"0987654321\")\n",
        "\n",
        "\n",
        "library.display_all_books()\n",
        "library.display_all_members()\n",
        "\n",
        "library.return_book(\"M001\", \"1234567890\")\n",
        "library.return_book(\"M002\", \"0987654321\")\n",
        "\n",
        "\n",
        "library.display_all_books()\n",
        "library.display_all_members()\n"
      ],
      "metadata": {
        "colab": {
          "base_uri": "https://localhost:8080/"
        },
        "id": "B29CTtOO1-VQ",
        "outputId": "13dce143-1d70-4dd4-e587-08ef97581a6e"
      },
      "execution_count": 4,
      "outputs": [
        {
          "output_type": "stream",
          "name": "stdout",
          "text": [
            "Added book: 1984\n",
            "Added book: To Kill a Mockingbird\n",
            "Registered member: Alice\n",
            "Registered member: Bob\n",
            "Title: 1984, Author: George Orwell, ISBN: 1234567890, Status: available\n",
            "Title: To Kill a Mockingbird, Author: Harper Lee, ISBN: 0987654321, Status: available\n",
            "Member Name: Alice, Member ID: M001, Borrowed Books: []\n",
            "Member Name: Bob, Member ID: M002, Borrowed Books: []\n",
            "1984 has been borrowed.\n",
            "Alice borrowed 1984.\n",
            "To Kill a Mockingbird has been borrowed.\n",
            "Bob borrowed To Kill a Mockingbird.\n",
            "Title: 1984, Author: George Orwell, ISBN: 1234567890, Status: borrowed\n",
            "Title: To Kill a Mockingbird, Author: Harper Lee, ISBN: 0987654321, Status: borrowed\n",
            "Member Name: Alice, Member ID: M001, Borrowed Books: ['1984']\n",
            "Member Name: Bob, Member ID: M002, Borrowed Books: ['To Kill a Mockingbird']\n",
            "1984 has been returned.\n",
            "Alice returned 1984.\n",
            "To Kill a Mockingbird has been returned.\n",
            "Bob returned To Kill a Mockingbird.\n",
            "Title: 1984, Author: George Orwell, ISBN: 1234567890, Status: available\n",
            "Title: To Kill a Mockingbird, Author: Harper Lee, ISBN: 0987654321, Status: available\n",
            "Member Name: Alice, Member ID: M001, Borrowed Books: []\n",
            "Member Name: Bob, Member ID: M002, Borrowed Books: []\n"
          ]
        }
      ]
    },
    {
      "cell_type": "code",
      "source": [],
      "metadata": {
        "id": "pfm5jrfi2DfP"
      },
      "execution_count": null,
      "outputs": []
    }
  ]
}