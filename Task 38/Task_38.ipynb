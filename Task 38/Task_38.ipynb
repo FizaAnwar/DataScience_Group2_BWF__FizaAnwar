{
  "nbformat": 4,
  "nbformat_minor": 0,
  "metadata": {
    "colab": {
      "provenance": []
    },
    "kernelspec": {
      "name": "python3",
      "display_name": "Python 3"
    },
    "language_info": {
      "name": "python"
    }
  },
  "cells": [
    {
      "cell_type": "markdown",
      "source": [
        "Step 1 :Set up NLTK"
      ],
      "metadata": {
        "id": "Iyk0QcFpJJ1d"
      }
    },
    {
      "cell_type": "code",
      "source": [
        "import nltk\n",
        "from nltk import word_tokenize, pos_tag, ne_chunk\n",
        "from nltk.sentiment import SentimentIntensityAnalyzer\n",
        "nltk.download('punkt')\n",
        "nltk.download('maxent_ne_chunker')\n",
        "nltk.download('words')\n",
        "nltk.download('vader_lexicon')\n",
        "nltk.download('averaged_perceptron_tagger')\n"
      ],
      "metadata": {
        "colab": {
          "base_uri": "https://localhost:8080/"
        },
        "id": "SYkvTml4JILH",
        "outputId": "54bfc095-ef95-4a3f-fe2a-7ef0ab5ecf91"
      },
      "execution_count": 12,
      "outputs": [
        {
          "output_type": "stream",
          "name": "stderr",
          "text": [
            "[nltk_data] Downloading package punkt to /root/nltk_data...\n",
            "[nltk_data]   Package punkt is already up-to-date!\n",
            "[nltk_data] Downloading package maxent_ne_chunker to\n",
            "[nltk_data]     /root/nltk_data...\n",
            "[nltk_data]   Package maxent_ne_chunker is already up-to-date!\n",
            "[nltk_data] Downloading package words to /root/nltk_data...\n",
            "[nltk_data]   Package words is already up-to-date!\n",
            "[nltk_data] Downloading package vader_lexicon to /root/nltk_data...\n",
            "[nltk_data]   Package vader_lexicon is already up-to-date!\n",
            "[nltk_data] Downloading package averaged_perceptron_tagger to\n",
            "[nltk_data]     /root/nltk_data...\n",
            "[nltk_data]   Unzipping taggers/averaged_perceptron_tagger.zip.\n"
          ]
        },
        {
          "output_type": "execute_result",
          "data": {
            "text/plain": [
              "True"
            ]
          },
          "metadata": {},
          "execution_count": 12
        }
      ]
    },
    {
      "cell_type": "markdown",
      "source": [
        "Step 2: Named Entity Recognition (NER)\n",
        "Named Entity Recognition is the process of identifying and classifying named entities (such as people, organizations, locations, etc.) in text.\n",
        "\n",
        "Here’s how to perform NER using NLTK"
      ],
      "metadata": {
        "id": "gc0USuiyJZRa"
      }
    },
    {
      "cell_type": "code",
      "source": [
        "def perform_ner(text):\n",
        "    # Tokenize the text into words\n",
        "    words = word_tokenize(text)\n",
        "\n",
        "    # Apply Part of Speech (POS) tagging\n",
        "    pos_tags = pos_tag(words)\n",
        "\n",
        "    # Perform Named Entity Recognition\n",
        "    named_entities = ne_chunk(pos_tags)\n",
        "\n",
        "    # Print named entities\n",
        "    print(named_entities)\n",
        "    return named_entities\n",
        "\n",
        "# Example text for NER\n",
        "text = \"Apple is looking at buying U.K. startup for $1 billion.\"\n",
        "ner_result = perform_ner(text)\n"
      ],
      "metadata": {
        "colab": {
          "base_uri": "https://localhost:8080/"
        },
        "id": "FB_QHxN_JUIF",
        "outputId": "9ef9cb61-6d5f-4655-e308-789255a83e0f"
      },
      "execution_count": 13,
      "outputs": [
        {
          "output_type": "stream",
          "name": "stdout",
          "text": [
            "(S\n",
            "  (GPE Apple/NNP)\n",
            "  is/VBZ\n",
            "  looking/VBG\n",
            "  at/IN\n",
            "  buying/VBG\n",
            "  U.K./NNP\n",
            "  startup/NN\n",
            "  for/IN\n",
            "  $/$\n",
            "  1/CD\n",
            "  billion/CD\n",
            "  ./.)\n"
          ]
        }
      ]
    },
    {
      "cell_type": "markdown",
      "source": [
        "Step 3: Sentiment Analysis\n",
        "Sentiment analysis involves determining the sentiment (positive, negative, or neutral) expressed in a piece of text.\n",
        "\n",
        "Here's how to perform sentiment analysis using NLTK's VADER sentiment analyzer:"
      ],
      "metadata": {
        "id": "bbJ2IWklJttb"
      }
    },
    {
      "cell_type": "code",
      "source": [
        "def perform_sentiment_analysis(text):\n",
        "    # Initialize SentimentIntensityAnalyzer\n",
        "    sia = SentimentIntensityAnalyzer()\n",
        "\n",
        "    # Get the sentiment scores\n",
        "    sentiment_scores = sia.polarity_scores(text)\n",
        "\n",
        "    # Print the sentiment analysis results\n",
        "    print(\"Sentiment Analysis:\", sentiment_scores)\n",
        "    return sentiment_scores\n",
        "\n",
        "# Example text for Sentiment Analysis\n",
        "sentiment_text = \"I love the new design of the iPhone. It's fantastic!\"\n",
        "sentiment_result = perform_sentiment_analysis(sentiment_text)\n"
      ],
      "metadata": {
        "colab": {
          "base_uri": "https://localhost:8080/"
        },
        "id": "pU_s7QWNJesU",
        "outputId": "4d627209-df97-49bf-dc3a-c2e0064568ef"
      },
      "execution_count": 14,
      "outputs": [
        {
          "output_type": "stream",
          "name": "stdout",
          "text": [
            "Sentiment Analysis: {'neg': 0.0, 'neu': 0.464, 'pos': 0.536, 'compound': 0.8439}\n"
          ]
        }
      ]
    },
    {
      "cell_type": "markdown",
      "source": [
        "Step 4: Combining NER and Sentiment Analysis\n",
        "\n",
        "You can also combine both tasks on a given text:"
      ],
      "metadata": {
        "id": "yOUmn-8XJ2sZ"
      }
    },
    {
      "cell_type": "code",
      "source": [
        "def analyze_text(text):\n",
        "    print(\"Performing Named Entity Recognition (NER):\")\n",
        "    ner_result = perform_ner(text)\n",
        "\n",
        "    print(\"\\nPerforming Sentiment Analysis:\")\n",
        "    sentiment_result = perform_sentiment_analysis(text)\n",
        "\n",
        "    return ner_result, sentiment_result\n",
        "\n",
        "# Example text for combined analysis\n",
        "combined_text = \"Elon Musk's latest tweet about SpaceX has created a lot of buzz.\"\n",
        "ner_result, sentiment_result = analyze_text(combined_text)\n"
      ],
      "metadata": {
        "colab": {
          "base_uri": "https://localhost:8080/"
        },
        "id": "FyUzF9PNJycz",
        "outputId": "4d13a1f0-ff24-4ffc-b457-ef027a8d4237"
      },
      "execution_count": 15,
      "outputs": [
        {
          "output_type": "stream",
          "name": "stdout",
          "text": [
            "Performing Named Entity Recognition (NER):\n",
            "(S\n",
            "  (PERSON Elon/NNP)\n",
            "  (ORGANIZATION Musk/NNP)\n",
            "  's/POS\n",
            "  latest/JJS\n",
            "  tweet/NN\n",
            "  about/IN\n",
            "  (ORGANIZATION SpaceX/NNP)\n",
            "  has/VBZ\n",
            "  created/VBN\n",
            "  a/DT\n",
            "  lot/NN\n",
            "  of/IN\n",
            "  buzz/NN\n",
            "  ./.)\n",
            "\n",
            "Performing Sentiment Analysis:\n",
            "Sentiment Analysis: {'neg': 0.0, 'neu': 0.833, 'pos': 0.167, 'compound': 0.25}\n"
          ]
        }
      ]
    },
    {
      "cell_type": "code",
      "source": [],
      "metadata": {
        "id": "N2O2M_iNJ7Nq"
      },
      "execution_count": null,
      "outputs": []
    }
  ]
}