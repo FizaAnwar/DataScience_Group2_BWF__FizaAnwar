{
  "nbformat": 4,
  "nbformat_minor": 0,
  "metadata": {
    "colab": {
      "provenance": []
    },
    "kernelspec": {
      "name": "python3",
      "display_name": "Python 3"
    },
    "language_info": {
      "name": "python"
    }
  },
  "cells": [
    {
      "cell_type": "code",
      "execution_count": 1,
      "metadata": {
        "id": "yL3dbwNbtGfK"
      },
      "outputs": [],
      "source": [
        "import pandas as pd"
      ]
    },
    {
      "cell_type": "code",
      "source": [
        "df= pd.read_csv('/content/Weather.csv')"
      ],
      "metadata": {
        "id": "fREI_TuBtXao"
      },
      "execution_count": 2,
      "outputs": []
    },
    {
      "cell_type": "code",
      "source": [
        "df.head()"
      ],
      "metadata": {
        "colab": {
          "base_uri": "https://localhost:8080/",
          "height": 206
        },
        "id": "_KojJfs5tm-d",
        "outputId": "2a9a6e5f-824f-499b-ad69-3e753a146f74"
      },
      "execution_count": 3,
      "outputs": [
        {
          "output_type": "execute_result",
          "data": {
            "text/plain": [
              "          Day  Temperature  WindSpeed Events\n",
              "0  01/01/2017         32.0        6.0   Rain\n",
              "1  01/02/2017          NaN        9.0    NaN\n",
              "2  01/03/2017         28.0        2.0   Snow\n",
              "3  01/04/2017          NaN        NaN    NaN\n",
              "4  01/05/2017          NaN        NaN   Rain"
            ],
            "text/html": [
              "\n",
              "  <div id=\"df-4f046d2a-e917-4667-8f8f-549be9831c76\" class=\"colab-df-container\">\n",
              "    <div>\n",
              "<style scoped>\n",
              "    .dataframe tbody tr th:only-of-type {\n",
              "        vertical-align: middle;\n",
              "    }\n",
              "\n",
              "    .dataframe tbody tr th {\n",
              "        vertical-align: top;\n",
              "    }\n",
              "\n",
              "    .dataframe thead th {\n",
              "        text-align: right;\n",
              "    }\n",
              "</style>\n",
              "<table border=\"1\" class=\"dataframe\">\n",
              "  <thead>\n",
              "    <tr style=\"text-align: right;\">\n",
              "      <th></th>\n",
              "      <th>Day</th>\n",
              "      <th>Temperature</th>\n",
              "      <th>WindSpeed</th>\n",
              "      <th>Events</th>\n",
              "    </tr>\n",
              "  </thead>\n",
              "  <tbody>\n",
              "    <tr>\n",
              "      <th>0</th>\n",
              "      <td>01/01/2017</td>\n",
              "      <td>32.0</td>\n",
              "      <td>6.0</td>\n",
              "      <td>Rain</td>\n",
              "    </tr>\n",
              "    <tr>\n",
              "      <th>1</th>\n",
              "      <td>01/02/2017</td>\n",
              "      <td>NaN</td>\n",
              "      <td>9.0</td>\n",
              "      <td>NaN</td>\n",
              "    </tr>\n",
              "    <tr>\n",
              "      <th>2</th>\n",
              "      <td>01/03/2017</td>\n",
              "      <td>28.0</td>\n",
              "      <td>2.0</td>\n",
              "      <td>Snow</td>\n",
              "    </tr>\n",
              "    <tr>\n",
              "      <th>3</th>\n",
              "      <td>01/04/2017</td>\n",
              "      <td>NaN</td>\n",
              "      <td>NaN</td>\n",
              "      <td>NaN</td>\n",
              "    </tr>\n",
              "    <tr>\n",
              "      <th>4</th>\n",
              "      <td>01/05/2017</td>\n",
              "      <td>NaN</td>\n",
              "      <td>NaN</td>\n",
              "      <td>Rain</td>\n",
              "    </tr>\n",
              "  </tbody>\n",
              "</table>\n",
              "</div>\n",
              "    <div class=\"colab-df-buttons\">\n",
              "\n",
              "  <div class=\"colab-df-container\">\n",
              "    <button class=\"colab-df-convert\" onclick=\"convertToInteractive('df-4f046d2a-e917-4667-8f8f-549be9831c76')\"\n",
              "            title=\"Convert this dataframe to an interactive table.\"\n",
              "            style=\"display:none;\">\n",
              "\n",
              "  <svg xmlns=\"http://www.w3.org/2000/svg\" height=\"24px\" viewBox=\"0 -960 960 960\">\n",
              "    <path d=\"M120-120v-720h720v720H120Zm60-500h600v-160H180v160Zm220 220h160v-160H400v160Zm0 220h160v-160H400v160ZM180-400h160v-160H180v160Zm440 0h160v-160H620v160ZM180-180h160v-160H180v160Zm440 0h160v-160H620v160Z\"/>\n",
              "  </svg>\n",
              "    </button>\n",
              "\n",
              "  <style>\n",
              "    .colab-df-container {\n",
              "      display:flex;\n",
              "      gap: 12px;\n",
              "    }\n",
              "\n",
              "    .colab-df-convert {\n",
              "      background-color: #E8F0FE;\n",
              "      border: none;\n",
              "      border-radius: 50%;\n",
              "      cursor: pointer;\n",
              "      display: none;\n",
              "      fill: #1967D2;\n",
              "      height: 32px;\n",
              "      padding: 0 0 0 0;\n",
              "      width: 32px;\n",
              "    }\n",
              "\n",
              "    .colab-df-convert:hover {\n",
              "      background-color: #E2EBFA;\n",
              "      box-shadow: 0px 1px 2px rgba(60, 64, 67, 0.3), 0px 1px 3px 1px rgba(60, 64, 67, 0.15);\n",
              "      fill: #174EA6;\n",
              "    }\n",
              "\n",
              "    .colab-df-buttons div {\n",
              "      margin-bottom: 4px;\n",
              "    }\n",
              "\n",
              "    [theme=dark] .colab-df-convert {\n",
              "      background-color: #3B4455;\n",
              "      fill: #D2E3FC;\n",
              "    }\n",
              "\n",
              "    [theme=dark] .colab-df-convert:hover {\n",
              "      background-color: #434B5C;\n",
              "      box-shadow: 0px 1px 3px 1px rgba(0, 0, 0, 0.15);\n",
              "      filter: drop-shadow(0px 1px 2px rgba(0, 0, 0, 0.3));\n",
              "      fill: #FFFFFF;\n",
              "    }\n",
              "  </style>\n",
              "\n",
              "    <script>\n",
              "      const buttonEl =\n",
              "        document.querySelector('#df-4f046d2a-e917-4667-8f8f-549be9831c76 button.colab-df-convert');\n",
              "      buttonEl.style.display =\n",
              "        google.colab.kernel.accessAllowed ? 'block' : 'none';\n",
              "\n",
              "      async function convertToInteractive(key) {\n",
              "        const element = document.querySelector('#df-4f046d2a-e917-4667-8f8f-549be9831c76');\n",
              "        const dataTable =\n",
              "          await google.colab.kernel.invokeFunction('convertToInteractive',\n",
              "                                                    [key], {});\n",
              "        if (!dataTable) return;\n",
              "\n",
              "        const docLinkHtml = 'Like what you see? Visit the ' +\n",
              "          '<a target=\"_blank\" href=https://colab.research.google.com/notebooks/data_table.ipynb>data table notebook</a>'\n",
              "          + ' to learn more about interactive tables.';\n",
              "        element.innerHTML = '';\n",
              "        dataTable['output_type'] = 'display_data';\n",
              "        await google.colab.output.renderOutput(dataTable, element);\n",
              "        const docLink = document.createElement('div');\n",
              "        docLink.innerHTML = docLinkHtml;\n",
              "        element.appendChild(docLink);\n",
              "      }\n",
              "    </script>\n",
              "  </div>\n",
              "\n",
              "\n",
              "<div id=\"df-8765e1d2-33ca-4c26-8692-66ca1faedd09\">\n",
              "  <button class=\"colab-df-quickchart\" onclick=\"quickchart('df-8765e1d2-33ca-4c26-8692-66ca1faedd09')\"\n",
              "            title=\"Suggest charts\"\n",
              "            style=\"display:none;\">\n",
              "\n",
              "<svg xmlns=\"http://www.w3.org/2000/svg\" height=\"24px\"viewBox=\"0 0 24 24\"\n",
              "     width=\"24px\">\n",
              "    <g>\n",
              "        <path d=\"M19 3H5c-1.1 0-2 .9-2 2v14c0 1.1.9 2 2 2h14c1.1 0 2-.9 2-2V5c0-1.1-.9-2-2-2zM9 17H7v-7h2v7zm4 0h-2V7h2v10zm4 0h-2v-4h2v4z\"/>\n",
              "    </g>\n",
              "</svg>\n",
              "  </button>\n",
              "\n",
              "<style>\n",
              "  .colab-df-quickchart {\n",
              "      --bg-color: #E8F0FE;\n",
              "      --fill-color: #1967D2;\n",
              "      --hover-bg-color: #E2EBFA;\n",
              "      --hover-fill-color: #174EA6;\n",
              "      --disabled-fill-color: #AAA;\n",
              "      --disabled-bg-color: #DDD;\n",
              "  }\n",
              "\n",
              "  [theme=dark] .colab-df-quickchart {\n",
              "      --bg-color: #3B4455;\n",
              "      --fill-color: #D2E3FC;\n",
              "      --hover-bg-color: #434B5C;\n",
              "      --hover-fill-color: #FFFFFF;\n",
              "      --disabled-bg-color: #3B4455;\n",
              "      --disabled-fill-color: #666;\n",
              "  }\n",
              "\n",
              "  .colab-df-quickchart {\n",
              "    background-color: var(--bg-color);\n",
              "    border: none;\n",
              "    border-radius: 50%;\n",
              "    cursor: pointer;\n",
              "    display: none;\n",
              "    fill: var(--fill-color);\n",
              "    height: 32px;\n",
              "    padding: 0;\n",
              "    width: 32px;\n",
              "  }\n",
              "\n",
              "  .colab-df-quickchart:hover {\n",
              "    background-color: var(--hover-bg-color);\n",
              "    box-shadow: 0 1px 2px rgba(60, 64, 67, 0.3), 0 1px 3px 1px rgba(60, 64, 67, 0.15);\n",
              "    fill: var(--button-hover-fill-color);\n",
              "  }\n",
              "\n",
              "  .colab-df-quickchart-complete:disabled,\n",
              "  .colab-df-quickchart-complete:disabled:hover {\n",
              "    background-color: var(--disabled-bg-color);\n",
              "    fill: var(--disabled-fill-color);\n",
              "    box-shadow: none;\n",
              "  }\n",
              "\n",
              "  .colab-df-spinner {\n",
              "    border: 2px solid var(--fill-color);\n",
              "    border-color: transparent;\n",
              "    border-bottom-color: var(--fill-color);\n",
              "    animation:\n",
              "      spin 1s steps(1) infinite;\n",
              "  }\n",
              "\n",
              "  @keyframes spin {\n",
              "    0% {\n",
              "      border-color: transparent;\n",
              "      border-bottom-color: var(--fill-color);\n",
              "      border-left-color: var(--fill-color);\n",
              "    }\n",
              "    20% {\n",
              "      border-color: transparent;\n",
              "      border-left-color: var(--fill-color);\n",
              "      border-top-color: var(--fill-color);\n",
              "    }\n",
              "    30% {\n",
              "      border-color: transparent;\n",
              "      border-left-color: var(--fill-color);\n",
              "      border-top-color: var(--fill-color);\n",
              "      border-right-color: var(--fill-color);\n",
              "    }\n",
              "    40% {\n",
              "      border-color: transparent;\n",
              "      border-right-color: var(--fill-color);\n",
              "      border-top-color: var(--fill-color);\n",
              "    }\n",
              "    60% {\n",
              "      border-color: transparent;\n",
              "      border-right-color: var(--fill-color);\n",
              "    }\n",
              "    80% {\n",
              "      border-color: transparent;\n",
              "      border-right-color: var(--fill-color);\n",
              "      border-bottom-color: var(--fill-color);\n",
              "    }\n",
              "    90% {\n",
              "      border-color: transparent;\n",
              "      border-bottom-color: var(--fill-color);\n",
              "    }\n",
              "  }\n",
              "</style>\n",
              "\n",
              "  <script>\n",
              "    async function quickchart(key) {\n",
              "      const quickchartButtonEl =\n",
              "        document.querySelector('#' + key + ' button');\n",
              "      quickchartButtonEl.disabled = true;  // To prevent multiple clicks.\n",
              "      quickchartButtonEl.classList.add('colab-df-spinner');\n",
              "      try {\n",
              "        const charts = await google.colab.kernel.invokeFunction(\n",
              "            'suggestCharts', [key], {});\n",
              "      } catch (error) {\n",
              "        console.error('Error during call to suggestCharts:', error);\n",
              "      }\n",
              "      quickchartButtonEl.classList.remove('colab-df-spinner');\n",
              "      quickchartButtonEl.classList.add('colab-df-quickchart-complete');\n",
              "    }\n",
              "    (() => {\n",
              "      let quickchartButtonEl =\n",
              "        document.querySelector('#df-8765e1d2-33ca-4c26-8692-66ca1faedd09 button');\n",
              "      quickchartButtonEl.style.display =\n",
              "        google.colab.kernel.accessAllowed ? 'block' : 'none';\n",
              "    })();\n",
              "  </script>\n",
              "</div>\n",
              "\n",
              "    </div>\n",
              "  </div>\n"
            ],
            "application/vnd.google.colaboratory.intrinsic+json": {
              "type": "dataframe",
              "variable_name": "df",
              "summary": "{\n  \"name\": \"df\",\n  \"rows\": 7,\n  \"fields\": [\n    {\n      \"column\": \"Day\",\n      \"properties\": {\n        \"dtype\": \"object\",\n        \"num_unique_values\": 7,\n        \"samples\": [\n          \"01/01/2017\",\n          \"01/02/2017\",\n          \"01/06/2017\"\n        ],\n        \"semantic_type\": \"\",\n        \"description\": \"\"\n      }\n    },\n    {\n      \"column\": \"Temperature\",\n      \"properties\": {\n        \"dtype\": \"number\",\n        \"std\": 2.217355782608345,\n        \"min\": 28.0,\n        \"max\": 33.0,\n        \"num_unique_values\": 3,\n        \"samples\": [\n          32.0,\n          28.0,\n          33.0\n        ],\n        \"semantic_type\": \"\",\n        \"description\": \"\"\n      }\n    },\n    {\n      \"column\": \"WindSpeed\",\n      \"properties\": {\n        \"dtype\": \"number\",\n        \"std\": 2.5884358211089573,\n        \"min\": 2.0,\n        \"max\": 9.0,\n        \"num_unique_values\": 5,\n        \"samples\": [\n          9.0,\n          7.0,\n          2.0\n        ],\n        \"semantic_type\": \"\",\n        \"description\": \"\"\n      }\n    },\n    {\n      \"column\": \"Events\",\n      \"properties\": {\n        \"dtype\": \"category\",\n        \"num_unique_values\": 3,\n        \"samples\": [\n          \"Rain\",\n          \"Snow\",\n          \"Sunny\"\n        ],\n        \"semantic_type\": \"\",\n        \"description\": \"\"\n      }\n    }\n  ]\n}"
            }
          },
          "metadata": {},
          "execution_count": 3
        }
      ]
    },
    {
      "cell_type": "markdown",
      "source": [
        "Identify missing values in the DataFrame.\n",
        "\n"
      ],
      "metadata": {
        "id": "-hi3mI6yttYw"
      }
    },
    {
      "cell_type": "code",
      "source": [
        "\n",
        "missing_values = df.isnull()\n",
        "\n",
        "print(\"DataFrame with missing value indicators (True indicates missing value):\")\n",
        "print(missing_values)\n",
        "\n",
        "\n",
        "missing_count = df.isnull().sum()\n",
        "\n",
        "\n",
        "print(\"\\nCount of missing values in each column:\")\n",
        "print(missing_count)"
      ],
      "metadata": {
        "colab": {
          "base_uri": "https://localhost:8080/"
        },
        "id": "zlLcAtAttpEm",
        "outputId": "7736775e-1ad4-4cef-d4f0-b3de7108c724"
      },
      "execution_count": 4,
      "outputs": [
        {
          "output_type": "stream",
          "name": "stdout",
          "text": [
            "DataFrame with missing value indicators (True indicates missing value):\n",
            "     Day  Temperature  WindSpeed  Events\n",
            "0  False        False      False   False\n",
            "1  False         True      False    True\n",
            "2  False        False      False   False\n",
            "3  False         True       True    True\n",
            "4  False         True       True   False\n",
            "5  False        False      False    True\n",
            "6  False        False      False   False\n",
            "\n",
            "Count of missing values in each column:\n",
            "Day            0\n",
            "Temperature    3\n",
            "WindSpeed      2\n",
            "Events         3\n",
            "dtype: int64\n"
          ]
        }
      ]
    },
    {
      "cell_type": "markdown",
      "source": [
        "Drop rows with any missing values.\n"
      ],
      "metadata": {
        "id": "FIlL_qGHubFy"
      }
    },
    {
      "cell_type": "code",
      "source": [
        "# Drop rows with any missing values\n",
        "df_dropna = df.dropna()\n",
        "# Display the original DataFrame\n",
        "print(\"Drop DataFrame:\")\n",
        "print(df_dropna)"
      ],
      "metadata": {
        "colab": {
          "base_uri": "https://localhost:8080/"
        },
        "id": "PW1ipmxLuCzD",
        "outputId": "78b47a2c-a60d-4ce1-bb33-98e3304bee92"
      },
      "execution_count": 5,
      "outputs": [
        {
          "output_type": "stream",
          "name": "stdout",
          "text": [
            "Drop DataFrame:\n",
            "          Day  Temperature  WindSpeed Events\n",
            "0  01/01/2017         32.0        6.0   Rain\n",
            "2  01/03/2017         28.0        2.0   Snow\n",
            "6  01/07/2017         33.0        7.0  Sunny\n"
          ]
        }
      ]
    },
    {
      "cell_type": "markdown",
      "source": [
        "Drop columns with any missing values."
      ],
      "metadata": {
        "id": "IR4osSx4uoSa"
      }
    },
    {
      "cell_type": "code",
      "source": [
        "# Drop columns with any missing values\n",
        "df_dropna_columns = df.dropna(axis=1)\n",
        "\n",
        "# Display the original DataFrame\n",
        "print(\"Drop DataFrame:\")\n",
        "print(df_dropna_columns)"
      ],
      "metadata": {
        "colab": {
          "base_uri": "https://localhost:8080/"
        },
        "id": "aCx0Cnmhuf97",
        "outputId": "faa65c41-26d2-46a1-e5d0-514c51a77769"
      },
      "execution_count": 6,
      "outputs": [
        {
          "output_type": "stream",
          "name": "stdout",
          "text": [
            "Drop DataFrame:\n",
            "          Day\n",
            "0  01/01/2017\n",
            "1  01/02/2017\n",
            "2  01/03/2017\n",
            "3  01/04/2017\n",
            "4  01/05/2017\n",
            "5  01/06/2017\n",
            "6  01/07/2017\n"
          ]
        }
      ]
    },
    {
      "cell_type": "markdown",
      "source": [
        "Fill missing values with a specific value."
      ],
      "metadata": {
        "id": "HszzuO36u4LO"
      }
    },
    {
      "cell_type": "code",
      "source": [
        "df_filled = df.fillna(0)\n",
        "\n",
        "# Display the filled DataFrame\n",
        "print(\"Filled DataFrame:\")\n",
        "print(df_filled)"
      ],
      "metadata": {
        "colab": {
          "base_uri": "https://localhost:8080/"
        },
        "id": "LlL12EVXuxfG",
        "outputId": "28b2d8d5-e96b-4d12-ee07-7f6db361fe72"
      },
      "execution_count": 7,
      "outputs": [
        {
          "output_type": "stream",
          "name": "stdout",
          "text": [
            "Filled DataFrame:\n",
            "          Day  Temperature  WindSpeed Events\n",
            "0  01/01/2017         32.0        6.0   Rain\n",
            "1  01/02/2017          0.0        9.0      0\n",
            "2  01/03/2017         28.0        2.0   Snow\n",
            "3  01/04/2017          0.0        0.0      0\n",
            "4  01/05/2017          0.0        0.0   Rain\n",
            "5  01/06/2017         32.0        5.0      0\n",
            "6  01/07/2017         33.0        7.0  Sunny\n"
          ]
        }
      ]
    },
    {
      "cell_type": "markdown",
      "source": [
        "Fill missing values using forward fill and backward fill methods.\n"
      ],
      "metadata": {
        "id": "nz8bOb2IvjIF"
      }
    },
    {
      "cell_type": "code",
      "source": [
        "# Fill missing values with forward fill (ffill)\n",
        "df_ffill = df.fillna(method='ffill')\n",
        "\n",
        "# Fill missing with backward fill (bfill)\n",
        "df_bfill = df.fillna(method='bfill')\n",
        "\n",
        "print(\"backward fill\")\n",
        "print(df_bfill)\n",
        "print(\"forward fill\")\n",
        "print(df_ffill)"
      ],
      "metadata": {
        "colab": {
          "base_uri": "https://localhost:8080/"
        },
        "id": "73OIDBlBve_u",
        "outputId": "96ffdaa7-c62e-4019-ad9d-03d3ee25bba8"
      },
      "execution_count": 8,
      "outputs": [
        {
          "output_type": "stream",
          "name": "stdout",
          "text": [
            "backward fill\n",
            "          Day  Temperature  WindSpeed Events\n",
            "0  01/01/2017         32.0        6.0   Rain\n",
            "1  01/02/2017         28.0        9.0   Snow\n",
            "2  01/03/2017         28.0        2.0   Snow\n",
            "3  01/04/2017         32.0        5.0   Rain\n",
            "4  01/05/2017         32.0        5.0   Rain\n",
            "5  01/06/2017         32.0        5.0  Sunny\n",
            "6  01/07/2017         33.0        7.0  Sunny\n",
            "forward fill\n",
            "          Day  Temperature  WindSpeed Events\n",
            "0  01/01/2017         32.0        6.0   Rain\n",
            "1  01/02/2017         32.0        9.0   Rain\n",
            "2  01/03/2017         28.0        2.0   Snow\n",
            "3  01/04/2017         28.0        2.0   Snow\n",
            "4  01/05/2017         28.0        2.0   Rain\n",
            "5  01/06/2017         32.0        5.0   Rain\n",
            "6  01/07/2017         33.0        7.0  Sunny\n"
          ]
        }
      ]
    },
    {
      "cell_type": "code",
      "source": [
        "# Interpolate missing values\n",
        "df_interpolated = df.interpolate()\n",
        "\n",
        "# Display the DataFrame after interpolating missing values\n",
        "print(\"\\nDataFrame after interpolating missing values:\")\n",
        "print(df_interpolated)"
      ],
      "metadata": {
        "colab": {
          "base_uri": "https://localhost:8080/"
        },
        "id": "XgKmedIPv1zy",
        "outputId": "505328ec-1da8-470c-8a7a-b1ff21ca8247"
      },
      "execution_count": 9,
      "outputs": [
        {
          "output_type": "stream",
          "name": "stdout",
          "text": [
            "\n",
            "DataFrame after interpolating missing values:\n",
            "          Day  Temperature  WindSpeed Events\n",
            "0  01/01/2017    32.000000        6.0   Rain\n",
            "1  01/02/2017    30.000000        9.0    NaN\n",
            "2  01/03/2017    28.000000        2.0   Snow\n",
            "3  01/04/2017    29.333333        3.0    NaN\n",
            "4  01/05/2017    30.666667        4.0   Rain\n",
            "5  01/06/2017    32.000000        5.0    NaN\n",
            "6  01/07/2017    33.000000        7.0  Sunny\n"
          ]
        }
      ]
    },
    {
      "cell_type": "markdown",
      "source": [
        "Convert a column to a different data type.\n"
      ],
      "metadata": {
        "id": "L7IXRP6H157m"
      }
    },
    {
      "cell_type": "code",
      "source": [
        "df.info()\n",
        "# Convert column 'Temperature' from string to integer\n",
        "df_filled['Temperature'] = df_filled['Temperature'].astype(int)\n",
        "df_filled.info()"
      ],
      "metadata": {
        "colab": {
          "base_uri": "https://localhost:8080/"
        },
        "id": "5SWws_JLwPPZ",
        "outputId": "abede794-4ae5-4921-d2b9-1f3285fc0ab5"
      },
      "execution_count": 10,
      "outputs": [
        {
          "output_type": "stream",
          "name": "stdout",
          "text": [
            "<class 'pandas.core.frame.DataFrame'>\n",
            "RangeIndex: 7 entries, 0 to 6\n",
            "Data columns (total 4 columns):\n",
            " #   Column       Non-Null Count  Dtype  \n",
            "---  ------       --------------  -----  \n",
            " 0   Day          7 non-null      object \n",
            " 1   Temperature  4 non-null      float64\n",
            " 2   WindSpeed    5 non-null      float64\n",
            " 3   Events       4 non-null      object \n",
            "dtypes: float64(2), object(2)\n",
            "memory usage: 352.0+ bytes\n",
            "<class 'pandas.core.frame.DataFrame'>\n",
            "RangeIndex: 7 entries, 0 to 6\n",
            "Data columns (total 4 columns):\n",
            " #   Column       Non-Null Count  Dtype  \n",
            "---  ------       --------------  -----  \n",
            " 0   Day          7 non-null      object \n",
            " 1   Temperature  7 non-null      int64  \n",
            " 2   WindSpeed    7 non-null      float64\n",
            " 3   Events       7 non-null      object \n",
            "dtypes: float64(1), int64(1), object(2)\n",
            "memory usage: 352.0+ bytes\n"
          ]
        }
      ]
    },
    {
      "cell_type": "markdown",
      "source": [
        "Apply a function to transform the values of a column.\n"
      ],
      "metadata": {
        "id": "3cSTIKJZ2iHO"
      }
    },
    {
      "cell_type": "code",
      "source": [
        "# Define a custom function to transform values\n",
        "def square(x):\n",
        "    return x * x\n",
        "\n",
        "# Apply the function to column 'WindSpeed'\n",
        "df['WindSpeed'] = df['WindSpeed'].apply(square)\n",
        "\n",
        "# Display the DataFrame after transformation\n",
        "print(\"DataFrame after applying the function to column 'WindSpeed':\")\n",
        "print(df)"
      ],
      "metadata": {
        "colab": {
          "base_uri": "https://localhost:8080/"
        },
        "id": "2-7RCVMB3MCb",
        "outputId": "3cc2c4f5-422a-403c-9c00-68b194d7b1e4"
      },
      "execution_count": 11,
      "outputs": [
        {
          "output_type": "stream",
          "name": "stdout",
          "text": [
            "DataFrame after applying the function to column 'WindSpeed':\n",
            "          Day  Temperature  WindSpeed Events\n",
            "0  01/01/2017         32.0       36.0   Rain\n",
            "1  01/02/2017          NaN       81.0    NaN\n",
            "2  01/03/2017         28.0        4.0   Snow\n",
            "3  01/04/2017          NaN        NaN    NaN\n",
            "4  01/05/2017          NaN        NaN   Rain\n",
            "5  01/06/2017         32.0       25.0    NaN\n",
            "6  01/07/2017         33.0       49.0  Sunny\n"
          ]
        }
      ]
    },
    {
      "cell_type": "markdown",
      "source": [
        "Normalize a column using Min-Max scaling.\n"
      ],
      "metadata": {
        "id": "36iNJgDH4OiQ"
      }
    },
    {
      "cell_type": "code",
      "source": [
        "def min_max_scaling(column):\n",
        "    return (column - column.min()) / (column.max() - column.min())\n",
        "\n",
        "# Apply Min-Max scaling to column 'WindSpeed'\n",
        "df['WindSpeed_normalize'] = min_max_scaling(df_filled['WindSpeed'])\n",
        "# Display the DataFrame after normalization\n",
        "print(\"DataFrame after Min-Max scaling:\")\n",
        "print(df)"
      ],
      "metadata": {
        "colab": {
          "base_uri": "https://localhost:8080/"
        },
        "id": "g7BCYYJ-3aII",
        "outputId": "1d2401c3-b9cb-43af-9b32-ce844dc71b9b"
      },
      "execution_count": 12,
      "outputs": [
        {
          "output_type": "stream",
          "name": "stdout",
          "text": [
            "DataFrame after Min-Max scaling:\n",
            "          Day  Temperature  WindSpeed Events  WindSpeed_normalize\n",
            "0  01/01/2017         32.0       36.0   Rain             0.666667\n",
            "1  01/02/2017          NaN       81.0    NaN             1.000000\n",
            "2  01/03/2017         28.0        4.0   Snow             0.222222\n",
            "3  01/04/2017          NaN        NaN    NaN             0.000000\n",
            "4  01/05/2017          NaN        NaN   Rain             0.000000\n",
            "5  01/06/2017         32.0       25.0    NaN             0.555556\n",
            "6  01/07/2017         33.0       49.0  Sunny             0.777778\n"
          ]
        }
      ]
    },
    {
      "cell_type": "markdown",
      "source": [
        "Standardize a column (z-score normalization).\n"
      ],
      "metadata": {
        "id": "-YgP4QQU4Ri1"
      }
    },
    {
      "cell_type": "code",
      "source": [
        "def z_score_normalization(column):\n",
        "    return (column - column.mean()) / column.std()\n",
        "df['WindSpeed-zscore_standardized'] = z_score_normalization(df['WindSpeed'])\n",
        "print(\"DataFrame after z-score normalization:\")\n",
        "print(df)"
      ],
      "metadata": {
        "colab": {
          "base_uri": "https://localhost:8080/"
        },
        "id": "5YH0YAsL4HKO",
        "outputId": "0335f2e4-31e5-4414-a315-ae88e6b26475"
      },
      "execution_count": 13,
      "outputs": [
        {
          "output_type": "stream",
          "name": "stdout",
          "text": [
            "DataFrame after z-score normalization:\n",
            "          Day  Temperature  WindSpeed Events  WindSpeed_normalize  \\\n",
            "0  01/01/2017         32.0       36.0   Rain             0.666667   \n",
            "1  01/02/2017          NaN       81.0    NaN             1.000000   \n",
            "2  01/03/2017         28.0        4.0   Snow             0.222222   \n",
            "3  01/04/2017          NaN        NaN    NaN             0.000000   \n",
            "4  01/05/2017          NaN        NaN   Rain             0.000000   \n",
            "5  01/06/2017         32.0       25.0    NaN             0.555556   \n",
            "6  01/07/2017         33.0       49.0  Sunny             0.777778   \n",
            "\n",
            "   WindSpeed-zscore_standardized  \n",
            "0                      -0.104542  \n",
            "1                       1.463583  \n",
            "2                      -1.219653  \n",
            "3                            NaN  \n",
            "4                            NaN  \n",
            "5                      -0.487861  \n",
            "6                       0.348472  \n"
          ]
        }
      ]
    },
    {
      "cell_type": "markdown",
      "source": [
        "Identify duplicate rows in the DataFrame.\n"
      ],
      "metadata": {
        "id": "ALDlzFj5h1PR"
      }
    },
    {
      "cell_type": "code",
      "source": [
        "# Identify duplicate rows\n",
        "duplicates = df_ffill.duplicated()\n",
        "print(duplicates)\n",
        "\n"
      ],
      "metadata": {
        "colab": {
          "base_uri": "https://localhost:8080/"
        },
        "id": "S02oKeoXhtts",
        "outputId": "48e08f70-576f-44de-9ded-ad755a6e3fd1"
      },
      "execution_count": 26,
      "outputs": [
        {
          "output_type": "stream",
          "name": "stdout",
          "text": [
            "0    False\n",
            "1    False\n",
            "2    False\n",
            "3    False\n",
            "4    False\n",
            "5    False\n",
            "6    False\n",
            "dtype: bool\n"
          ]
        }
      ]
    },
    {
      "cell_type": "markdown",
      "source": [
        "Drop duplicate rows.\n"
      ],
      "metadata": {
        "id": "xn6f8TkhjktN"
      }
    },
    {
      "cell_type": "code",
      "source": [
        "df_deduplicated = df_ffill.drop_duplicates()\n",
        "print(\"\\nDataFrame after dropping duplicate rows:\")\n",
        "print(df_deduplicated)"
      ],
      "metadata": {
        "colab": {
          "base_uri": "https://localhost:8080/"
        },
        "id": "GdEOi_VFh89k",
        "outputId": "5d9a1c77-0525-4bd1-f642-840c3ab998bc"
      },
      "execution_count": 27,
      "outputs": [
        {
          "output_type": "stream",
          "name": "stdout",
          "text": [
            "\n",
            "DataFrame after dropping duplicate rows:\n",
            "          Day  Temperature  WindSpeed Events\n",
            "0  01/01/2017         32.0        6.0   Rain\n",
            "1  01/02/2017         32.0        9.0   Rain\n",
            "2  01/03/2017         28.0        2.0   Snow\n",
            "3  01/04/2017         28.0        2.0   Snow\n",
            "4  01/05/2017         28.0        2.0   Rain\n",
            "5  01/06/2017         32.0        5.0   Rain\n",
            "6  01/07/2017         33.0        7.0  Sunny\n"
          ]
        }
      ]
    },
    {
      "cell_type": "markdown",
      "source": [
        "Drop duplicate rows based on specific columns.\n",
        "\n",
        "*   List item\n",
        "*   List item\n",
        "\n"
      ],
      "metadata": {
        "id": "aSRNlWYrjjoN"
      }
    },
    {
      "cell_type": "code",
      "source": [
        "df_deduplicated_subset = df_ffill.drop_duplicates(subset=['Temperature', 'Events'])\n",
        "print(\"\\nDataFrame after dropping duplicate rows based on columns 'Temperature' and 'Events':\")\n",
        "print(df_deduplicated_subset)\n"
      ],
      "metadata": {
        "colab": {
          "base_uri": "https://localhost:8080/"
        },
        "id": "579v8px0i5Qu",
        "outputId": "68b12f8b-e12b-4653-e3ed-9451b1643bac"
      },
      "execution_count": 29,
      "outputs": [
        {
          "output_type": "stream",
          "name": "stdout",
          "text": [
            "\n",
            "DataFrame after dropping duplicate rows based on columns 'Temperature' and 'Events':\n",
            "          Day  Temperature  WindSpeed Events\n",
            "0  01/01/2017         32.0        6.0   Rain\n",
            "2  01/03/2017         28.0        2.0   Snow\n",
            "4  01/05/2017         28.0        2.0   Rain\n",
            "6  01/07/2017         33.0        7.0  Sunny\n"
          ]
        }
      ]
    },
    {
      "cell_type": "code",
      "source": [
        "df_ffill['Events'] = df_ffill['Events'].str.lower()\n",
        "print(\"DataFrame after converting string values to lowercase:\")\n",
        "print(df_ffill)"
      ],
      "metadata": {
        "colab": {
          "base_uri": "https://localhost:8080/"
        },
        "id": "ze2xIO-bmR_C",
        "outputId": "6f78edf8-0d46-4a15-df64-6557de57802e"
      },
      "execution_count": 32,
      "outputs": [
        {
          "output_type": "stream",
          "name": "stdout",
          "text": [
            "DataFrame after converting string values to lowercase:\n",
            "          Day  Temperature  WindSpeed Events\n",
            "0  01/01/2017         32.0        6.0   rain\n",
            "1  01/02/2017         32.0        9.0   rain\n",
            "2  01/03/2017         28.0        2.0   snow\n",
            "3  01/04/2017         28.0        2.0   snow\n",
            "4  01/05/2017         28.0        2.0   rain\n",
            "5  01/06/2017         32.0        5.0   rain\n",
            "6  01/07/2017         33.0        7.0  sunny\n"
          ]
        }
      ]
    },
    {
      "cell_type": "markdown",
      "source": [
        "Remove leading and trailing spaces from string values in a column.\n"
      ],
      "metadata": {
        "id": "9pYZWt51nGby"
      }
    },
    {
      "cell_type": "code",
      "source": [
        "df['Events'] = df['Events'].str.strip()\n",
        "print(\"DataFrame after removing leading and trailing spaces:\")\n",
        "print(df)"
      ],
      "metadata": {
        "colab": {
          "base_uri": "https://localhost:8080/"
        },
        "id": "bdd5Lw2emyU2",
        "outputId": "19094432-c4be-425d-d5fc-4ec657734ea9"
      },
      "execution_count": 35,
      "outputs": [
        {
          "output_type": "stream",
          "name": "stdout",
          "text": [
            "DataFrame after removing leading and trailing spaces:\n",
            "          Day  Temperature  WindSpeed Events  WindSpeed_normalize  \\\n",
            "0  01/01/2017         32.0       36.0   rain             0.666667   \n",
            "1  01/02/2017          NaN       81.0   rain             1.000000   \n",
            "2  01/03/2017         28.0        4.0   snow             0.222222   \n",
            "3  01/04/2017          NaN        NaN   snow             0.000000   \n",
            "4  01/05/2017          NaN        NaN   rain             0.000000   \n",
            "5  01/06/2017         32.0       25.0   rain             0.555556   \n",
            "6  01/07/2017         33.0       49.0  sunny             0.777778   \n",
            "\n",
            "   WindSpeed-zscore_standardized  \n",
            "0                      -0.104542  \n",
            "1                       1.463583  \n",
            "2                      -1.219653  \n",
            "3                            NaN  \n",
            "4                            NaN  \n",
            "5                      -0.487861  \n",
            "6                       0.348472  \n"
          ]
        }
      ]
    },
    {
      "cell_type": "markdown",
      "source": [
        "Replace a specific substring in a column with another substring.\n"
      ],
      "metadata": {
        "id": "IX9fjidcp-k9"
      }
    },
    {
      "cell_type": "code",
      "source": [
        "# Sample DataFrame\n",
        "data = {\n",
        "    'A': [2,4,6,8,10],\n",
        "    'B': ['Hello World', 'World of Pandas', 'Hello Pandas', 'Python World', 'Data World']\n",
        "}\n",
        "\n",
        "df2 = pd.DataFrame(data)\n",
        "df2['B'] = df2['B'].str.replace('World', 'Universe')\n",
        "print(\"DataFrame after replacing 'World' with 'Universe':\")\n",
        "print(df2)"
      ],
      "metadata": {
        "colab": {
          "base_uri": "https://localhost:8080/"
        },
        "id": "IkS1IgllooSg",
        "outputId": "89f65bf1-7ea5-4d9a-c4fa-2c0cb19f1f03"
      },
      "execution_count": 36,
      "outputs": [
        {
          "output_type": "stream",
          "name": "stdout",
          "text": [
            "DataFrame after replacing 'World' with 'Universe':\n",
            "    A                   B\n",
            "0   2      Hello Universe\n",
            "1   4  Universe of Pandas\n",
            "2   6        Hello Pandas\n",
            "3   8     Python Universe\n",
            "4  10       Data Universe\n"
          ]
        }
      ]
    },
    {
      "cell_type": "markdown",
      "source": [
        "Extract a substring from each value in a column.\n"
      ],
      "metadata": {
        "id": "QFgbl4i_p6UT"
      }
    },
    {
      "cell_type": "code",
      "source": [
        "data = {\n",
        "    'A': [1, 2, 3, 4, 5],\n",
        "    'B': ['John Doe', 'lucas Smith', 'Rose Johnson', 'Chris Brown', 'Emma Davis']\n",
        "}\n",
        "\n",
        "df3 = pd.DataFrame(data)\n",
        "df3['First_Name'] = df3['B'].str.extract(r'(\\w+)', expand=False)\n",
        "\n",
        "print(\"DataFrame after extracting the first name:\")\n",
        "print(df3)"
      ],
      "metadata": {
        "colab": {
          "base_uri": "https://localhost:8080/"
        },
        "id": "LbCY0y6fpVCY",
        "outputId": "8884a13f-b570-4142-9dfb-d58423e674ee"
      },
      "execution_count": 38,
      "outputs": [
        {
          "output_type": "stream",
          "name": "stdout",
          "text": [
            "DataFrame after extracting the first name:\n",
            "   A             B First_Name\n",
            "0  1      John Doe       John\n",
            "1  2   lucas Smith      lucas\n",
            "2  3  Rose Johnson       Rose\n",
            "3  4   Chris Brown      Chris\n",
            "4  5    Emma Davis       Emma\n"
          ]
        }
      ]
    },
    {
      "cell_type": "markdown",
      "source": [
        "Extract a substring from each value in a column.\n"
      ],
      "metadata": {
        "id": "9QlIWOBKqGJS"
      }
    },
    {
      "cell_type": "code",
      "source": [
        "# Extract the year using str.slice()\n",
        "df['Year'] = df['Day'].str.slice(0,2)\n",
        "\n",
        "# Display the DataFrame after extraction\n",
        "print(\"DataFrame after extracting the year:\")\n",
        "print(df)\n"
      ],
      "metadata": {
        "colab": {
          "base_uri": "https://localhost:8080/"
        },
        "id": "iduoat9Dps5t",
        "outputId": "599be4b8-1d94-4ace-d009-a6883e737c9d"
      },
      "execution_count": 45,
      "outputs": [
        {
          "output_type": "stream",
          "name": "stdout",
          "text": [
            "DataFrame after extracting the year:\n",
            "          Day  Temperature  WindSpeed Events  WindSpeed_normalize  \\\n",
            "0  01/01/2017         32.0       36.0   rain             0.666667   \n",
            "1  01/02/2017          NaN       81.0   rain             1.000000   \n",
            "2  01/03/2017         28.0        4.0   snow             0.222222   \n",
            "3  01/04/2017          NaN        NaN   snow             0.000000   \n",
            "4  01/05/2017          NaN        NaN   rain             0.000000   \n",
            "5  01/06/2017         32.0       25.0   rain             0.555556   \n",
            "6  01/07/2017         33.0       49.0  sunny             0.777778   \n",
            "\n",
            "   WindSpeed-zscore_standardized Year  \n",
            "0                      -0.104542   01  \n",
            "1                       1.463583   01  \n",
            "2                      -1.219653   01  \n",
            "3                            NaN   01  \n",
            "4                            NaN   01  \n",
            "5                      -0.487861   01  \n",
            "6                       0.348472   01  \n"
          ]
        }
      ]
    },
    {
      "cell_type": "markdown",
      "source": [
        "Convert a column to datetime format.\n"
      ],
      "metadata": {
        "id": "ElTbnp81tHq7"
      }
    },
    {
      "cell_type": "code",
      "source": [
        "df['Day'] = pd.to_datetime(df['Day'])\n",
        "print(\"DataFrame after converting 'Date' column to datetime format:\")\n",
        "print(df)\n",
        "print(\"\\nData types of each column:\")\n",
        "print(df.dtypes)"
      ],
      "metadata": {
        "colab": {
          "base_uri": "https://localhost:8080/"
        },
        "id": "x1moD-ytsoxi",
        "outputId": "3c88a466-2d1b-4335-9fb2-fd32ae9c76a3"
      },
      "execution_count": 46,
      "outputs": [
        {
          "output_type": "stream",
          "name": "stdout",
          "text": [
            "DataFrame after converting 'Date' column to datetime format:\n",
            "         Day  Temperature  WindSpeed Events  WindSpeed_normalize  \\\n",
            "0 2017-01-01         32.0       36.0   rain             0.666667   \n",
            "1 2017-01-02          NaN       81.0   rain             1.000000   \n",
            "2 2017-01-03         28.0        4.0   snow             0.222222   \n",
            "3 2017-01-04          NaN        NaN   snow             0.000000   \n",
            "4 2017-01-05          NaN        NaN   rain             0.000000   \n",
            "5 2017-01-06         32.0       25.0   rain             0.555556   \n",
            "6 2017-01-07         33.0       49.0  sunny             0.777778   \n",
            "\n",
            "   WindSpeed-zscore_standardized Year  \n",
            "0                      -0.104542   01  \n",
            "1                       1.463583   01  \n",
            "2                      -1.219653   01  \n",
            "3                            NaN   01  \n",
            "4                            NaN   01  \n",
            "5                      -0.487861   01  \n",
            "6                       0.348472   01  \n",
            "\n",
            "Data types of each column:\n",
            "Day                              datetime64[ns]\n",
            "Temperature                             float64\n",
            "WindSpeed                               float64\n",
            "Events                                   object\n",
            "WindSpeed_normalize                     float64\n",
            "WindSpeed-zscore_standardized           float64\n",
            "Year                                     object\n",
            "dtype: object\n"
          ]
        }
      ]
    },
    {
      "cell_type": "markdown",
      "source": [
        "Extract year, month, and day from a datetime column.\n"
      ],
      "metadata": {
        "id": "DgBZOoBptjdV"
      }
    },
    {
      "cell_type": "code",
      "source": [
        "\n",
        "df['Day'] = pd.to_datetime(df['Day'])\n",
        "df['Year'] = df['Day'].dt.year\n",
        "df['Month'] = df['Day'].dt.month\n",
        "df['Day'] = df['Day'].dt.day\n",
        "\n",
        "# Display the DataFrame after extraction\n",
        "print(\"DataFrame after extracting year, month, and day from 'Date' column:\")\n",
        "print(df)"
      ],
      "metadata": {
        "colab": {
          "base_uri": "https://localhost:8080/"
        },
        "id": "yAo22usytXOO",
        "outputId": "7f2d7791-9db6-46e8-9856-b953e2623741"
      },
      "execution_count": 47,
      "outputs": [
        {
          "output_type": "stream",
          "name": "stdout",
          "text": [
            "DataFrame after extracting year, month, and day from 'Date' column:\n",
            "   Day  Temperature  WindSpeed Events  WindSpeed_normalize  \\\n",
            "0    1         32.0       36.0   rain             0.666667   \n",
            "1    2          NaN       81.0   rain             1.000000   \n",
            "2    3         28.0        4.0   snow             0.222222   \n",
            "3    4          NaN        NaN   snow             0.000000   \n",
            "4    5          NaN        NaN   rain             0.000000   \n",
            "5    6         32.0       25.0   rain             0.555556   \n",
            "6    7         33.0       49.0  sunny             0.777778   \n",
            "\n",
            "   WindSpeed-zscore_standardized  Year  Month  \n",
            "0                      -0.104542  2017      1  \n",
            "1                       1.463583  2017      1  \n",
            "2                      -1.219653  2017      1  \n",
            "3                            NaN  2017      1  \n",
            "4                            NaN  2017      1  \n",
            "5                      -0.487861  2017      1  \n",
            "6                       0.348472  2017      1  \n"
          ]
        }
      ]
    },
    {
      "cell_type": "markdown",
      "source": [
        "Filter rows based on a date range.\n"
      ],
      "metadata": {
        "id": "nt9cMoOZue4U"
      }
    },
    {
      "cell_type": "code",
      "source": [
        "import numpy as np\n",
        "\n",
        "start_date = '2017-01-01'\n",
        "end_date = '2017-01-12'\n",
        "\n",
        "start_date = pd.to_TimeStamp(start_date)\n",
        "end_date = pd.to_TimeStamp(end_date)\n",
        "\n",
        "filtered_df = df[(df['Day'] >= start_date) & (df['Day'] <= end_date)]\n",
        "\n",
        "print(\"DataFrame filtered based on date range:\")\n",
        "print(filtered_df)"
      ],
      "metadata": {
        "colab": {
          "base_uri": "https://localhost:8080/",
          "height": 219
        },
        "id": "T9_6O67HuZZu",
        "outputId": "4a7b293c-a682-40e5-95a1-022b9b3128fd"
      },
      "execution_count": 82,
      "outputs": [
        {
          "output_type": "error",
          "ename": "AttributeError",
          "evalue": "module 'pandas' has no attribute 'to_TimeStamp'",
          "traceback": [
            "\u001b[0;31m---------------------------------------------------------------------------\u001b[0m",
            "\u001b[0;31mAttributeError\u001b[0m                            Traceback (most recent call last)",
            "\u001b[0;32m<ipython-input-82-8ee0b4aa9e41>\u001b[0m in \u001b[0;36m<cell line: 6>\u001b[0;34m()\u001b[0m\n\u001b[1;32m      4\u001b[0m \u001b[0mend_date\u001b[0m \u001b[0;34m=\u001b[0m \u001b[0;34m'2017-01-12'\u001b[0m\u001b[0;34m\u001b[0m\u001b[0;34m\u001b[0m\u001b[0m\n\u001b[1;32m      5\u001b[0m \u001b[0;34m\u001b[0m\u001b[0m\n\u001b[0;32m----> 6\u001b[0;31m \u001b[0mstart_date\u001b[0m \u001b[0;34m=\u001b[0m \u001b[0mpd\u001b[0m\u001b[0;34m.\u001b[0m\u001b[0mto_TimeStamp\u001b[0m\u001b[0;34m(\u001b[0m\u001b[0mstart_date\u001b[0m\u001b[0;34m)\u001b[0m\u001b[0;34m\u001b[0m\u001b[0;34m\u001b[0m\u001b[0m\n\u001b[0m\u001b[1;32m      7\u001b[0m \u001b[0mend_date\u001b[0m \u001b[0;34m=\u001b[0m \u001b[0mpd\u001b[0m\u001b[0;34m.\u001b[0m\u001b[0mto_TimeStamp\u001b[0m\u001b[0;34m(\u001b[0m\u001b[0mend_date\u001b[0m\u001b[0;34m)\u001b[0m\u001b[0;34m\u001b[0m\u001b[0;34m\u001b[0m\u001b[0m\n\u001b[1;32m      8\u001b[0m \u001b[0;34m\u001b[0m\u001b[0m\n",
            "\u001b[0;31mAttributeError\u001b[0m: module 'pandas' has no attribute 'to_TimeStamp'"
          ]
        }
      ]
    },
    {
      "cell_type": "markdown",
      "source": [
        "Convert a categorical column to numerical using one-hot encoding."
      ],
      "metadata": {
        "id": "OW2zhmpt1AQm"
      }
    },
    {
      "cell_type": "code",
      "source": [
        "# Perform one-hot encoding on the 'Events' column\n",
        "df_encoded = pd.get_dummies(df, columns=['Events'], prefix='', prefix_sep='')\n",
        "\n",
        "# Display the DataFrame after one-hot encoding\n",
        "print(\"DataFrame after one-hot encoding:\")\n",
        "print(df_encoded)"
      ],
      "metadata": {
        "colab": {
          "base_uri": "https://localhost:8080/"
        },
        "id": "7illjkgYuzA-",
        "outputId": "15dcfa5e-bd92-4edc-d0d8-6f73c7d4dabd"
      },
      "execution_count": 56,
      "outputs": [
        {
          "output_type": "stream",
          "name": "stdout",
          "text": [
            "DataFrame after one-hot encoding:\n",
            "   Day  Temperature  WindSpeed  WindSpeed_normalize  \\\n",
            "0    1         32.0       36.0             0.666667   \n",
            "1    2          NaN       81.0             1.000000   \n",
            "2    3         28.0        4.0             0.222222   \n",
            "3    4          NaN        NaN             0.000000   \n",
            "4    5          NaN        NaN             0.000000   \n",
            "5    6         32.0       25.0             0.555556   \n",
            "6    7         33.0       49.0             0.777778   \n",
            "\n",
            "   WindSpeed-zscore_standardized  Year  Month   rain   snow  sunny  \n",
            "0                      -0.104542  2017      1   True  False  False  \n",
            "1                       1.463583  2017      1   True  False  False  \n",
            "2                      -1.219653  2017      1  False   True  False  \n",
            "3                            NaN  2017      1  False   True  False  \n",
            "4                            NaN  2017      1   True  False  False  \n",
            "5                      -0.487861  2017      1   True  False  False  \n",
            "6                       0.348472  2017      1  False  False   True  \n"
          ]
        }
      ]
    },
    {
      "cell_type": "markdown",
      "source": [
        "Convert a categorical column to numerical using label encoding.\n"
      ],
      "metadata": {
        "id": "yuuOlFOu1WsE"
      }
    },
    {
      "cell_type": "code",
      "source": [
        "from sklearn.preprocessing import LabelEncoder\n",
        "label_encoder = LabelEncoder()\n",
        "df['Event_Encoded'] = label_encoder.fit_transform(df['Events'])\n",
        "print(\"DataFrame after label encoding:\")\n",
        "print(df)"
      ],
      "metadata": {
        "colab": {
          "base_uri": "https://localhost:8080/"
        },
        "id": "qrtxaH7s1OlF",
        "outputId": "4ed94fe1-c70f-4359-832f-e9a5a27ad74c"
      },
      "execution_count": 62,
      "outputs": [
        {
          "output_type": "stream",
          "name": "stdout",
          "text": [
            "DataFrame after label encoding:\n",
            "   Day  Temperature  WindSpeed Events  WindSpeed_normalize  \\\n",
            "0    1         32.0       36.0   rain             0.666667   \n",
            "1    2          NaN       81.0   rain             1.000000   \n",
            "2    3         28.0        4.0   snow             0.222222   \n",
            "3    4          NaN        NaN   snow             0.000000   \n",
            "4    5          NaN        NaN   rain             0.000000   \n",
            "5    6         32.0       25.0   rain             0.555556   \n",
            "6    7         33.0       49.0  sunny             0.777778   \n",
            "\n",
            "   WindSpeed-zscore_standardized  Year  Month  Event_Encoded  \n",
            "0                      -0.104542  2017      1              0  \n",
            "1                       1.463583  2017      1              0  \n",
            "2                      -1.219653  2017      1              1  \n",
            "3                            NaN  2017      1              1  \n",
            "4                            NaN  2017      1              0  \n",
            "5                      -0.487861  2017      1              0  \n",
            "6                       0.348472  2017      1              2  \n"
          ]
        }
      ]
    },
    {
      "cell_type": "markdown",
      "source": [
        "Group values in a categorical column and create a new column with grouped categories."
      ],
      "metadata": {
        "id": "jhRrNA9I2RMP"
      }
    },
    {
      "cell_type": "code",
      "source": [
        "group_mapping = {\n",
        "    'rain': 'cool_weather',\n",
        "    'snow': 'Freezing',\n",
        "    'sunny': 'Hot_Weather',\n",
        "}\n",
        "df['Grouped_Events'] = df['Events'].replace(group_mapping)\n",
        "# Display the DataFrame after grouping\n",
        "print(\"DataFrame after grouping categories:\")\n",
        "print(df)"
      ],
      "metadata": {
        "colab": {
          "base_uri": "https://localhost:8080/"
        },
        "id": "eeF0agaN1sqo",
        "outputId": "bffd8ba5-f259-465e-87cf-d1b29e920306"
      },
      "execution_count": 64,
      "outputs": [
        {
          "output_type": "stream",
          "name": "stdout",
          "text": [
            "DataFrame after grouping categories:\n",
            "   Day  Temperature  WindSpeed Events  WindSpeed_normalize  \\\n",
            "0    1         32.0       36.0   rain             0.666667   \n",
            "1    2          NaN       81.0   rain             1.000000   \n",
            "2    3         28.0        4.0   snow             0.222222   \n",
            "3    4          NaN        NaN   snow             0.000000   \n",
            "4    5          NaN        NaN   rain             0.000000   \n",
            "5    6         32.0       25.0   rain             0.555556   \n",
            "6    7         33.0       49.0  sunny             0.777778   \n",
            "\n",
            "   WindSpeed-zscore_standardized  Year  Month  Event_Encoded Grouped_Events  \n",
            "0                      -0.104542  2017      1              0   cool_weather  \n",
            "1                       1.463583  2017      1              0   cool_weather  \n",
            "2                      -1.219653  2017      1              1       Freezing  \n",
            "3                            NaN  2017      1              1       Freezing  \n",
            "4                            NaN  2017      1              0   cool_weather  \n",
            "5                      -0.487861  2017      1              0   cool_weather  \n",
            "6                       0.348472  2017      1              2    Hot_Weather  \n"
          ]
        }
      ]
    },
    {
      "cell_type": "code",
      "source": [
        "# DataFrame 1\n",
        "data1 = {\n",
        "    'ID': [1, 2, 3, 4],\n",
        "    'Name': ['Ali', 'Umer', 'Uzair', 'Hammad']\n",
        "}\n",
        "df4 = pd.DataFrame(data1)\n",
        "\n",
        "#DataFrame 2\n",
        "data2 = {\n",
        "    'ID': [1, 3, 4, 5],\n",
        "    'Age': [25, 30, 35, 40]\n",
        "}\n",
        "df5 = pd.DataFrame(data2)\n",
        "\n",
        "\n",
        "merged_df = pd.merge(df4, df5, on='ID')\n",
        "\n",
        "print(\"Merged DataFrame:\")\n",
        "print(merged_df)\n"
      ],
      "metadata": {
        "colab": {
          "base_uri": "https://localhost:8080/"
        },
        "id": "0WSsW0qE22XU",
        "outputId": "dffec368-cef8-4065-b9e3-49cb48d25df3"
      },
      "execution_count": 66,
      "outputs": [
        {
          "output_type": "stream",
          "name": "stdout",
          "text": [
            "Merged DataFrame:\n",
            "   ID    Name  Age\n",
            "0   1     Ali   25\n",
            "1   3   Uzair   30\n",
            "2   4  Hammad   35\n"
          ]
        }
      ]
    },
    {
      "cell_type": "markdown",
      "source": [
        "Concatenate two DataFrames vertically.\n"
      ],
      "metadata": {
        "id": "vKu_qiBW4owd"
      }
    },
    {
      "cell_type": "code",
      "source": [
        "# Concatenate DataFrames vertically\n",
        "concatenated_df = pd.concat([df4, df5], axis=0)\n",
        "\n",
        "# Display the concatenated DataFrame\n",
        "print(\"Concatenated DataFrame:\")\n",
        "print(concatenated_df)"
      ],
      "metadata": {
        "colab": {
          "base_uri": "https://localhost:8080/"
        },
        "id": "OvPBneSr4c5T",
        "outputId": "5ac2ef54-5203-43fa-b53e-8fdfb4f039d7"
      },
      "execution_count": 68,
      "outputs": [
        {
          "output_type": "stream",
          "name": "stdout",
          "text": [
            "Concatenated DataFrame:\n",
            "   ID    Name   Age\n",
            "0   1     Ali   NaN\n",
            "1   2    Umer   NaN\n",
            "2   3   Uzair   NaN\n",
            "3   4  Hammad   NaN\n",
            "0   1     NaN  25.0\n",
            "1   3     NaN  30.0\n",
            "2   4     NaN  35.0\n",
            "3   5     NaN  40.0\n"
          ]
        }
      ]
    },
    {
      "cell_type": "markdown",
      "source": [
        "Concatenate two DataFrames horizontally.\n"
      ],
      "metadata": {
        "id": "DHfVay8z5Cpq"
      }
    },
    {
      "cell_type": "code",
      "source": [
        "# Concatenate DataFrames vertically\n",
        "concatenated_df = pd.concat([df4, df5], axis=1)\n",
        "\n",
        "# Display the concatenated DataFrame\n",
        "print(\"Concatenated DataFrame:\")\n",
        "print(concatenated_df)"
      ],
      "metadata": {
        "colab": {
          "base_uri": "https://localhost:8080/"
        },
        "id": "bxRuklU44zaq",
        "outputId": "04c048b4-85bb-4836-c41c-18d4eed97abb"
      },
      "execution_count": 69,
      "outputs": [
        {
          "output_type": "stream",
          "name": "stdout",
          "text": [
            "Concatenated DataFrame:\n",
            "   ID    Name  ID  Age\n",
            "0   1     Ali   1   25\n",
            "1   2    Umer   3   30\n",
            "2   3   Uzair   4   35\n",
            "3   4  Hammad   5   40\n"
          ]
        }
      ]
    },
    {
      "cell_type": "code",
      "source": [
        "df5['Square_age'] = df5['Age'] * df5['Age']\n",
        "\n",
        "# Display the DataFrame with the new column\n",
        "print(\"DataFrame with new column 'C':\")\n",
        "print(df5)"
      ],
      "metadata": {
        "colab": {
          "base_uri": "https://localhost:8080/"
        },
        "id": "oIfae8-E5F_z",
        "outputId": "3756ccc8-ece0-4c91-ff71-94d984e657ac"
      },
      "execution_count": 74,
      "outputs": [
        {
          "output_type": "stream",
          "name": "stdout",
          "text": [
            "DataFrame with new column 'C':\n",
            "   ID  Age  Square_age\n",
            "0   1   25         625\n",
            "1   3   30         900\n",
            "2   4   35        1225\n",
            "3   5   40        1600\n"
          ]
        }
      ]
    },
    {
      "cell_type": "code",
      "source": [
        "data = {\n",
        "    'Value': [10, 25, 35, 50, 20, 45, 30, 15]\n",
        "}\n",
        "df6 = pd.DataFrame(data)\n",
        "bins = [0, 20, 40, 60]\n",
        "\n",
        "df6['Bin'] = pd.cut(df6['Value'], bins=bins, labels=['Low', 'Medium', 'High'])\n",
        "\n",
        "\n",
        "print(\"DataFrame with discretized column 'Value':\")\n",
        "print(df6)"
      ],
      "metadata": {
        "colab": {
          "base_uri": "https://localhost:8080/"
        },
        "id": "rQsE5o5S-9l8",
        "outputId": "c05de84a-ede2-423f-97ff-92f80ed94bed"
      },
      "execution_count": 75,
      "outputs": [
        {
          "output_type": "stream",
          "name": "stdout",
          "text": [
            "DataFrame with discretized column 'Value':\n",
            "   Value     Bin\n",
            "0     10     Low\n",
            "1     25  Medium\n",
            "2     35  Medium\n",
            "3     50    High\n",
            "4     20     Low\n",
            "5     45    High\n",
            "6     30  Medium\n",
            "7     15     Low\n"
          ]
        }
      ]
    },
    {
      "cell_type": "code",
      "source": [
        "from sklearn.preprocessing import PolynomialFeatures\n",
        "data = {\n",
        "    'A': [1, 2, 3, 4, 5],\n",
        "    'B': [10, 20, 30, 40, 50]\n",
        "}\n",
        "df7= pd.DataFrame(data)\n",
        "poly = PolynomialFeatures(degree=2, include_bias=False)\n",
        "poly_features = poly.fit_transform(df7)\n",
        "# Get the names of the polynomial features\n",
        "poly_feature_names = poly.get_feature_names(input_features=df7.columns)\n",
        "\n",
        "# Create a new DataFrame with polynomial features and correct column names\n",
        "poly_df = pd.DataFrame(poly_features, columns=poly_feature_names)\n",
        "print(\"DataFrame with polynomial features:\")\n",
        "print(poly_df)\n"
      ],
      "metadata": {
        "colab": {
          "base_uri": "https://localhost:8080/",
          "height": 219
        },
        "id": "nGUBWhMc_6Bf",
        "outputId": "fdc1705f-e04b-4081-c442-8b50f66deef2"
      },
      "execution_count": 79,
      "outputs": [
        {
          "output_type": "error",
          "ename": "AttributeError",
          "evalue": "'PolynomialFeatures' object has no attribute 'get_feature_names'",
          "traceback": [
            "\u001b[0;31m---------------------------------------------------------------------------\u001b[0m",
            "\u001b[0;31mAttributeError\u001b[0m                            Traceback (most recent call last)",
            "\u001b[0;32m<ipython-input-79-fe7f2854bc3b>\u001b[0m in \u001b[0;36m<cell line: 10>\u001b[0;34m()\u001b[0m\n\u001b[1;32m      8\u001b[0m \u001b[0mpoly_features\u001b[0m \u001b[0;34m=\u001b[0m \u001b[0mpoly\u001b[0m\u001b[0;34m.\u001b[0m\u001b[0mfit_transform\u001b[0m\u001b[0;34m(\u001b[0m\u001b[0mdf7\u001b[0m\u001b[0;34m)\u001b[0m\u001b[0;34m\u001b[0m\u001b[0;34m\u001b[0m\u001b[0m\n\u001b[1;32m      9\u001b[0m \u001b[0;31m# Get the names of the polynomial features\u001b[0m\u001b[0;34m\u001b[0m\u001b[0;34m\u001b[0m\u001b[0m\n\u001b[0;32m---> 10\u001b[0;31m \u001b[0mpoly_feature_names\u001b[0m \u001b[0;34m=\u001b[0m \u001b[0mpoly\u001b[0m\u001b[0;34m.\u001b[0m\u001b[0mget_feature_names\u001b[0m\u001b[0;34m(\u001b[0m\u001b[0minput_features\u001b[0m\u001b[0;34m=\u001b[0m\u001b[0mdf7\u001b[0m\u001b[0;34m.\u001b[0m\u001b[0mcolumns\u001b[0m\u001b[0;34m)\u001b[0m\u001b[0;34m\u001b[0m\u001b[0;34m\u001b[0m\u001b[0m\n\u001b[0m\u001b[1;32m     11\u001b[0m \u001b[0;34m\u001b[0m\u001b[0m\n\u001b[1;32m     12\u001b[0m \u001b[0;31m# Create a new DataFrame with polynomial features and correct column names\u001b[0m\u001b[0;34m\u001b[0m\u001b[0;34m\u001b[0m\u001b[0m\n",
            "\u001b[0;31mAttributeError\u001b[0m: 'PolynomialFeatures' object has no attribute 'get_feature_names'"
          ]
        }
      ]
    },
    {
      "cell_type": "code",
      "source": [],
      "metadata": {
        "id": "o8N0XHZEAcPO"
      },
      "execution_count": null,
      "outputs": []
    }
  ]
}