{
  "nbformat": 4,
  "nbformat_minor": 0,
  "metadata": {
    "colab": {
      "provenance": []
    },
    "kernelspec": {
      "name": "python3",
      "display_name": "Python 3"
    },
    "language_info": {
      "name": "python"
    }
  },
  "cells": [
    {
      "cell_type": "markdown",
      "source": [
        "Merge two DataFrames on a single key.\n"
      ],
      "metadata": {
        "id": "vf1M0LCa9BpW"
      }
    },
    {
      "cell_type": "code",
      "source": [
        "import pandas as pd\n",
        "\n",
        "# DataFrame 1\n",
        "data1 = {\n",
        "    'ID': [1, 2, 3, 4, 5],\n",
        "    'Name': ['Alice', 'Bob', 'Charlie', 'David','Henry'],\n",
        "    'Age': [25, 30, 35, 40 ,60]\n",
        "}\n",
        "\n",
        "df1 = pd.DataFrame(data1)\n",
        "df1.head()\n",
        "\n",
        "# DataFrame 2\n",
        "data2 = {\n",
        "    'ID': [1, 2, 3, 5, 6],\n",
        "    'City': ['New York', 'Los Angeles', 'Chicago', 'Houston','Boston'],\n",
        "    'Country': ['USA', 'USA', 'USA', 'USA','USA']\n",
        "}\n",
        "\n",
        "df2 = pd.DataFrame(data2)\n",
        "df2.head()\n",
        "\n",
        "# Merging DataFrames on the key 'ID'\n",
        "merged_df = df1.merge(df2, on='ID', how='inner')\n",
        "\n",
        "print(merged_df)\n"
      ],
      "metadata": {
        "id": "OB_KOYSv9AV5",
        "outputId": "2dfe0e25-c755-493a-eda0-68a9fa0e8ca4",
        "colab": {
          "base_uri": "https://localhost:8080/"
        }
      },
      "execution_count": 3,
      "outputs": [
        {
          "output_type": "stream",
          "name": "stdout",
          "text": [
            "   ID     Name  Age         City Country\n",
            "0   1    Alice   25     New York     USA\n",
            "1   2      Bob   30  Los Angeles     USA\n",
            "2   3  Charlie   35      Chicago     USA\n",
            "3   5    Henry   60      Houston     USA\n"
          ]
        }
      ]
    },
    {
      "cell_type": "markdown",
      "source": [
        "Merge two DataFrames on multiple keys."
      ],
      "metadata": {
        "id": "swT4-8A19z8X"
      }
    },
    {
      "cell_type": "code",
      "source": [
        "#  DataFrame 1\n",
        "data1 = {\n",
        "    'ID': [1, 2, 3, 4],\n",
        "    'Name': ['Martin', 'Bob', 'Tao', 'joseph'],\n",
        "    'Age': [25, 30, 35, 40],\n",
        "    'City': ['New York', 'Los Angeles', 'Chicago', 'Houston']\n",
        "}\n",
        "\n",
        "df1 = pd.DataFrame(data1)\n",
        "\n",
        "# Sample data for DataFrame 2\n",
        "data2 = {\n",
        "    'ID': [1, 2, 3, 5],\n",
        "    'City': ['New York', 'Los Angeles', 'San Francisco', 'Houston'],\n",
        "    'Country': ['USA', 'USA', 'USA', 'USA'],\n",
        "    'Income': [70000, 80000, 90000, 75000]\n",
        "}\n",
        "\n",
        "df2 = pd.DataFrame(data2)\n",
        "\n",
        "# Merging DataFrames on the keys 'ID' and 'City'\n",
        "merged_df = df1.merge(df2, on=['ID', 'City'], how='inner')\n",
        "\n",
        "print(merged_df)\n"
      ],
      "metadata": {
        "id": "6TYc4pxU9WKC",
        "outputId": "3902a3e4-01d1-4b87-dc77-925e150097e2",
        "colab": {
          "base_uri": "https://localhost:8080/"
        }
      },
      "execution_count": 8,
      "outputs": [
        {
          "output_type": "stream",
          "name": "stdout",
          "text": [
            "   ID    Name  Age         City Country  Income\n",
            "0   1  Martin   25     New York     USA   70000\n",
            "1   2     Bob   30  Los Angeles     USA   80000\n"
          ]
        }
      ]
    },
    {
      "cell_type": "markdown",
      "source": [
        "Perform an outer join, inner join, left join, and right join.\n"
      ],
      "metadata": {
        "id": "2Wx97GSyC3vA"
      }
    },
    {
      "cell_type": "code",
      "source": [
        "inner_join = df1.merge(df2, on='ID', how='inner')\n",
        "print(\"Inner Join:\")\n",
        "print(inner_join)\n",
        "\n"
      ],
      "metadata": {
        "id": "vVWaRlNK-Qql",
        "outputId": "2d4db974-31d3-4867-c4cb-7fdc32ee44ce",
        "colab": {
          "base_uri": "https://localhost:8080/"
        }
      },
      "execution_count": 9,
      "outputs": [
        {
          "output_type": "stream",
          "name": "stdout",
          "text": [
            "Inner Join:\n",
            "   ID    Name  Age       City_x         City_y Country  Income\n",
            "0   1  Martin   25     New York       New York     USA   70000\n",
            "1   2     Bob   30  Los Angeles    Los Angeles     USA   80000\n",
            "2   3     Tao   35      Chicago  San Francisco     USA   90000\n"
          ]
        }
      ]
    },
    {
      "cell_type": "markdown",
      "source": [
        "Concatenate two DataFrames along rows.\n"
      ],
      "metadata": {
        "id": "QnhUTZfhC5IL"
      }
    },
    {
      "cell_type": "code",
      "source": [
        "# Concatenate DataFrames along rows\n",
        "concatenate_df = pd.concat([df1, df2], axis=0)\n",
        "\n",
        "print(\"\\nConcatenate DataFrame:\")\n",
        "print(concatenate_df)\n"
      ],
      "metadata": {
        "id": "Bg7ry6fB-eTS",
        "outputId": "4f060158-38da-4a24-febf-44a81314410e",
        "colab": {
          "base_uri": "https://localhost:8080/"
        }
      },
      "execution_count": 10,
      "outputs": [
        {
          "output_type": "stream",
          "name": "stdout",
          "text": [
            "\n",
            "Concatenate DataFrame:\n",
            "   ID    Name   Age           City Country   Income\n",
            "0   1  Martin  25.0       New York     NaN      NaN\n",
            "1   2     Bob  30.0    Los Angeles     NaN      NaN\n",
            "2   3     Tao  35.0        Chicago     NaN      NaN\n",
            "3   4  joseph  40.0        Houston     NaN      NaN\n",
            "0   1     NaN   NaN       New York     USA  70000.0\n",
            "1   2     NaN   NaN    Los Angeles     USA  80000.0\n",
            "2   3     NaN   NaN  San Francisco     USA  90000.0\n",
            "3   5     NaN   NaN        Houston     USA  75000.0\n"
          ]
        }
      ]
    },
    {
      "cell_type": "markdown",
      "source": [
        "Concatenate two DataFrames along columns."
      ],
      "metadata": {
        "id": "Q0iKZHpOC_Ta"
      }
    },
    {
      "cell_type": "code",
      "source": [
        "# Concatenate DataFrames along columns\n",
        "concatenated_df = pd.concat([df1, df2], axis=1)\n",
        "\n",
        "print(\"\\nConcatenated DataFrame:\")\n",
        "print(concatenated_df)\n"
      ],
      "metadata": {
        "id": "NapOPxdl-8rp",
        "outputId": "8387fee5-1d58-47e5-f0d2-7afd3725b3b1",
        "colab": {
          "base_uri": "https://localhost:8080/"
        }
      },
      "execution_count": 11,
      "outputs": [
        {
          "output_type": "stream",
          "name": "stdout",
          "text": [
            "\n",
            "Concatenated DataFrame:\n",
            "   ID    Name  Age         City  ID           City Country  Income\n",
            "0   1  Martin   25     New York   1       New York     USA   70000\n",
            "1   2     Bob   30  Los Angeles   2    Los Angeles     USA   80000\n",
            "2   3     Tao   35      Chicago   3  San Francisco     USA   90000\n",
            "3   4  joseph   40      Houston   5        Houston     USA   75000\n"
          ]
        }
      ]
    },
    {
      "cell_type": "markdown",
      "source": [
        "Concatenate a list of DataFrames.\n"
      ],
      "metadata": {
        "id": "DykUocBfDDV3"
      }
    },
    {
      "cell_type": "code",
      "source": [
        "df_list = [df1, df2]\n",
        "\n",
        "print(\"DataFrame 1:\")\n",
        "print(df1)\n",
        "print(\"\\nDataFrame 2:\")\n",
        "print(df2)\n"
      ],
      "metadata": {
        "id": "bbUWqeHt_fZS",
        "outputId": "182b2c76-fdb9-482e-ffd4-9d77e4faf04d",
        "colab": {
          "base_uri": "https://localhost:8080/"
        }
      },
      "execution_count": 12,
      "outputs": [
        {
          "output_type": "stream",
          "name": "stdout",
          "text": [
            "DataFrame 1:\n",
            "   ID    Name  Age         City\n",
            "0   1  Martin   25     New York\n",
            "1   2     Bob   30  Los Angeles\n",
            "2   3     Tao   35      Chicago\n",
            "3   4  joseph   40      Houston\n",
            "\n",
            "DataFrame 2:\n",
            "   ID           City Country  Income\n",
            "0   1       New York     USA   70000\n",
            "1   2    Los Angeles     USA   80000\n",
            "2   3  San Francisco     USA   90000\n",
            "3   5        Houston     USA   75000\n"
          ]
        }
      ]
    },
    {
      "cell_type": "code",
      "source": [
        "# Concatenate list of DataFrames along rows\n",
        "concatenated_df_rows = pd.concat(df_list, axis=0, ignore_index=True)\n",
        "\n",
        "print(\"\\nConcatenated DataFrame Along Rows:\")\n",
        "print(concatenated_df_rows)\n"
      ],
      "metadata": {
        "id": "xAcmwK3u_3M1",
        "outputId": "cf0879f0-56e7-4834-a1e8-20b648162299",
        "colab": {
          "base_uri": "https://localhost:8080/"
        }
      },
      "execution_count": 13,
      "outputs": [
        {
          "output_type": "stream",
          "name": "stdout",
          "text": [
            "\n",
            "Concatenated DataFrame Along Rows:\n",
            "   ID    Name   Age           City Country   Income\n",
            "0   1  Martin  25.0       New York     NaN      NaN\n",
            "1   2     Bob  30.0    Los Angeles     NaN      NaN\n",
            "2   3     Tao  35.0        Chicago     NaN      NaN\n",
            "3   4  joseph  40.0        Houston     NaN      NaN\n",
            "4   1     NaN   NaN       New York     USA  70000.0\n",
            "5   2     NaN   NaN    Los Angeles     USA  80000.0\n",
            "6   3     NaN   NaN  San Francisco     USA  90000.0\n",
            "7   5     NaN   NaN        Houston     USA  75000.0\n"
          ]
        }
      ]
    },
    {
      "cell_type": "code",
      "source": [
        "# Concatenate list of DataFrames along columns\n",
        "concatenated_df_columns = pd.concat(df_list, axis=1, ignore_index=True)\n",
        "\n",
        "print(\"\\nConcatenated DataFrame Along columns:\")\n",
        "print(concatenated_df_columns)\n"
      ],
      "metadata": {
        "id": "3Gj1_iH5_8gK",
        "outputId": "aa0c4934-c33c-4c1e-8e4d-44e7fd54aaf8",
        "colab": {
          "base_uri": "https://localhost:8080/"
        }
      },
      "execution_count": 14,
      "outputs": [
        {
          "output_type": "stream",
          "name": "stdout",
          "text": [
            "\n",
            "Concatenated DataFrame Along columns:\n",
            "   0       1   2            3  4              5    6      7\n",
            "0  1  Martin  25     New York  1       New York  USA  70000\n",
            "1  2     Bob  30  Los Angeles  2    Los Angeles  USA  80000\n",
            "2  3     Tao  35      Chicago  3  San Francisco  USA  90000\n",
            "3  4  joseph  40      Houston  5        Houston  USA  75000\n"
          ]
        }
      ]
    },
    {
      "cell_type": "markdown",
      "source": [
        "Reshape data using the melt function to go from wide to long format.\n"
      ],
      "metadata": {
        "id": "dh8t5iZpDHId"
      }
    },
    {
      "cell_type": "code",
      "source": [
        "# Reshape from wide to long format\n",
        "melted_df1 = pd.melt(df1, id_vars=['ID', 'Name'], var_name='Subject', value_name='Score')\n",
        "\n",
        "print(\"\\nLong Format DataFrame:\")\n",
        "print(melted_df1)\n"
      ],
      "metadata": {
        "id": "RUnr-x1TAJBH",
        "outputId": "f50da67f-c3b7-448d-ff72-4e30c5ccb618",
        "colab": {
          "base_uri": "https://localhost:8080/"
        }
      },
      "execution_count": 16,
      "outputs": [
        {
          "output_type": "stream",
          "name": "stdout",
          "text": [
            "\n",
            "Long Format DataFrame:\n",
            "   ID    Name Subject        Score\n",
            "0   1  Martin     Age           25\n",
            "1   2     Bob     Age           30\n",
            "2   3     Tao     Age           35\n",
            "3   4  joseph     Age           40\n",
            "4   1  Martin    City     New York\n",
            "5   2     Bob    City  Los Angeles\n",
            "6   3     Tao    City      Chicago\n",
            "7   4  joseph    City      Houston\n"
          ]
        }
      ]
    },
    {
      "cell_type": "markdown",
      "source": [
        "Create a pivot table to summarize data.\n"
      ],
      "metadata": {
        "id": "7Q6e2gAGDKzp"
      }
    },
    {
      "cell_type": "code",
      "source": [
        "# Create pivot table to summarize data\n",
        "pivot_table = pd.pivot_table(df2, values='Income', index='ID', columns='City', aggfunc='sum')\n",
        "\n",
        "print(\"\\nPivot Table:\")\n",
        "print(pivot_table)\n"
      ],
      "metadata": {
        "id": "MacvhoUJAgqm",
        "outputId": "11453254-6349-4155-ef52-94e1ddff359a",
        "colab": {
          "base_uri": "https://localhost:8080/"
        }
      },
      "execution_count": 17,
      "outputs": [
        {
          "output_type": "stream",
          "name": "stdout",
          "text": [
            "\n",
            "Pivot Table:\n",
            "City  Houston  Los Angeles  New York  San Francisco\n",
            "ID                                                 \n",
            "1         NaN          NaN   70000.0            NaN\n",
            "2         NaN      80000.0       NaN            NaN\n",
            "3         NaN          NaN       NaN        90000.0\n",
            "5     75000.0          NaN       NaN            NaN\n"
          ]
        }
      ]
    },
    {
      "cell_type": "markdown",
      "source": [
        "Group data by one or more columns and perform aggregation functions (e.g., sum, mean, count).\n"
      ],
      "metadata": {
        "id": "3UsrZ_drDO8L"
      }
    },
    {
      "cell_type": "code",
      "source": [
        "# Group data by ID and City, and perform aggregation\n",
        "grouped_data = df2.groupby(['ID', 'City']).agg({\n",
        "    'Income': ['sum', 'mean', 'count']\n",
        "}).reset_index()\n",
        "\n",
        "print(\"\\nGrouped and Aggregated Data:\")\n",
        "print(grouped_data)\n"
      ],
      "metadata": {
        "id": "T4aab93YBVVa",
        "outputId": "02af4431-241e-434f-efb1-0006ebf8e563",
        "colab": {
          "base_uri": "https://localhost:8080/"
        }
      },
      "execution_count": 18,
      "outputs": [
        {
          "output_type": "stream",
          "name": "stdout",
          "text": [
            "\n",
            "Grouped and Aggregated Data:\n",
            "  ID           City Income               \n",
            "                       sum     mean count\n",
            "0  1       New York  70000  70000.0     1\n",
            "1  2    Los Angeles  80000  80000.0     1\n",
            "2  3  San Francisco  90000  90000.0     1\n",
            "3  5        Houston  75000  75000.0     1\n"
          ]
        }
      ]
    },
    {
      "cell_type": "markdown",
      "source": [
        "Apply multiple aggregation functions to grouped data."
      ],
      "metadata": {
        "id": "LzrffrXgDSe0"
      }
    },
    {
      "cell_type": "code",
      "source": [
        "# Group data by ID and City, and apply multiple aggregation functions\n",
        "grouped_data = df2.groupby(['ID', 'City']).agg({\n",
        "    'Income': ['sum', 'mean', 'count']\n",
        "}).reset_index()\n",
        "\n",
        "print(\"\\nGrouped and Aggregated Data:\")\n",
        "print(grouped_data)\n"
      ],
      "metadata": {
        "id": "RIr_1Eg8Bumj",
        "outputId": "6103ea18-5924-41d8-9c15-e0d1094d8e4b",
        "colab": {
          "base_uri": "https://localhost:8080/"
        }
      },
      "execution_count": 19,
      "outputs": [
        {
          "output_type": "stream",
          "name": "stdout",
          "text": [
            "\n",
            "Grouped and Aggregated Data:\n",
            "  ID           City Income               \n",
            "                       sum     mean count\n",
            "0  1       New York  70000  70000.0     1\n",
            "1  2    Los Angeles  80000  80000.0     1\n",
            "2  3  San Francisco  90000  90000.0     1\n",
            "3  5        Houston  75000  75000.0     1\n"
          ]
        }
      ]
    },
    {
      "cell_type": "markdown",
      "source": [
        "Use the groupby function to group data and apply custom functions.\n"
      ],
      "metadata": {
        "id": "HGKgsEqMDWLA"
      }
    },
    {
      "cell_type": "code",
      "source": [
        "# Custom aggregation functions\n",
        "def total_income(series):\n",
        "    return series.sum()\n",
        "\n",
        "def average_income(series):\n",
        "    return series.mean()\n",
        "\n",
        "# Group data by Date and Region, and apply custom aggregation functions\n",
        "grouped_data = df2.groupby(['ID', 'City']).agg({\n",
        "    'Income': [total_income, average_income]\n",
        "}).reset_index()\n",
        "\n",
        "print(\"\\nGrouped and Aggregated Data with Custom Functions:\")\n",
        "print(grouped_data)\n"
      ],
      "metadata": {
        "id": "SS2hKDd7CBqC",
        "outputId": "a81501e8-78fe-441e-e957-0cf62b223fb7",
        "colab": {
          "base_uri": "https://localhost:8080/"
        }
      },
      "execution_count": 22,
      "outputs": [
        {
          "output_type": "stream",
          "name": "stdout",
          "text": [
            "\n",
            "Grouped and Aggregated Data with Custom Functions:\n",
            "  ID           City       Income               \n",
            "                    total_income average_income\n",
            "0  1       New York        70000        70000.0\n",
            "1  2    Los Angeles        80000        80000.0\n",
            "2  3  San Francisco        90000        90000.0\n",
            "3  5        Houston        75000        75000.0\n"
          ]
        }
      ]
    },
    {
      "cell_type": "code",
      "source": [],
      "metadata": {
        "id": "e65ehj_DCqgJ"
      },
      "execution_count": null,
      "outputs": []
    }
  ]
}