{
  "nbformat": 4,
  "nbformat_minor": 0,
  "metadata": {
    "colab": {
      "provenance": []
    },
    "kernelspec": {
      "name": "python3",
      "display_name": "Python 3"
    },
    "language_info": {
      "name": "python"
    }
  },
  "cells": [
    {
      "cell_type": "code",
      "execution_count": 9,
      "metadata": {
        "colab": {
          "base_uri": "https://localhost:8080/"
        },
        "id": "Siezw2__jOMo",
        "outputId": "cf56b0bf-23e6-4659-bd52-84f688974822"
      },
      "outputs": [
        {
          "output_type": "stream",
          "name": "stdout",
          "text": [
            "~~~~DMAS Calculator~~~~\n",
            "Enter the first number=56\n",
            "Enter the second number=5\n",
            "press 1 for addition\n",
            " press 2 for subraction\n",
            " press 3 for multiplication\n",
            " press 4 for division\n",
            "Enter the number of your choice=1\n",
            "Sum of the given two numbers is= 61.0\n"
          ]
        }
      ],
      "source": [
        "print(\"~~~~DMAS Calculator~~~~\")\n",
        "num1=float(input(\"Enter the first number=\"))\n",
        "num2=float(input(\"Enter the second number=\"))\n",
        "print(\"press 1 for addition\\n press 2 for subraction\\n press 3 for multiplication\\n press 4 for division\")\n",
        "choice = int(input(\"Enter the number of your choice=\"))\n",
        "if choice == 1:\n",
        "    print(\"Sum of the given two numbers is=\" ,num1+num2)\n",
        "elif choice == 2:\n",
        "    print(\"Subraction of the given two number is=\", num1-num2)\n",
        "elif choice == 3:\n",
        "   print(\"Multiplication of the given two number is=\", num1*num2)\n",
        "elif choice == 4:\n",
        "    print(\"Division of the given two number is=\", num1/num2)\n",
        "else:\n",
        "    print(\"Invalid Input\")"
      ]
    },
    {
      "cell_type": "code",
      "source": [],
      "metadata": {
        "id": "3l9-FSZikF3M"
      },
      "execution_count": 7,
      "outputs": []
    }
  ]
}