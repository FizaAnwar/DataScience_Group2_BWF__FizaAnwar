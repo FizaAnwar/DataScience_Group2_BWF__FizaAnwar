{
  "nbformat": 4,
  "nbformat_minor": 0,
  "metadata": {
    "colab": {
      "provenance": []
    },
    "kernelspec": {
      "name": "python3",
      "display_name": "Python 3"
    },
    "language_info": {
      "name": "python"
    }
  },
  "cells": [
    {
      "cell_type": "markdown",
      "source": [
        "Some more Questions"
      ],
      "metadata": {
        "id": "Ebb8fn3eFO12"
      }
    },
    {
      "cell_type": "markdown",
      "source": [
        "Given a 2D array, use slicing to extract every second row and every second column, then add a 1D array to each row of the sliced array.\n"
      ],
      "metadata": {
        "id": "JgqapifQ3lX7"
      }
    },
    {
      "cell_type": "code",
      "execution_count": 17,
      "metadata": {
        "colab": {
          "base_uri": "https://localhost:8080/"
        },
        "id": "gE7L_7Cf3fmy",
        "outputId": "9723b101-d8ad-4f51-f0a7-84b783e2a0ac"
      },
      "outputs": [
        {
          "output_type": "stream",
          "name": "stdout",
          "text": [
            "Sliced Array:\n",
            "[[ 1  3]\n",
            " [ 9 11]]\n",
            "Resultant Array after Adding 1D array to Each Row:\n",
            "[[ 2  5]\n",
            " [10 13]]\n"
          ]
        }
      ],
      "source": [
        "import numpy as np\n",
        "\n",
        "\n",
        "arr = np.array([\n",
        "    [1, 2, 3, 4],\n",
        "    [5, 6, 7, 8],\n",
        "    [9, 10, 11, 12],\n",
        "    [13, 14, 15, 16]\n",
        "])\n",
        "\n",
        "\n",
        "sliced_arr = arr[::2, ::2]\n",
        "print(\"Sliced Array:\")\n",
        "print(sliced_arr)\n",
        "\n",
        "\n",
        "b = np.array([1, 2])\n",
        "\n",
        "\n",
        "result = sliced_arr + b\n",
        "print(\"Resultant Array after Adding 1D array to Each Row:\")\n",
        "print(result)\n"
      ]
    },
    {
      "cell_type": "markdown",
      "source": [
        "From a 3D array of shape (4, 3, 2), extract a sub-array using slicing and then use broadcasting to subtract a 2D array from each slice along the third axis."
      ],
      "metadata": {
        "id": "_cPM8vP66aB3"
      }
    },
    {
      "cell_type": "code",
      "source": [
        "import numpy as np\n",
        "\n",
        "# Example 3D array of shape (4, 3, 2)\n",
        "arr = np.array([\n",
        "    [[1, 2], [3, 4], [5, 6]],\n",
        "    [[7, 8], [9, 10], [11, 12]],\n",
        "    [[13, 14], [15, 16], [17, 18]],\n",
        "    [[19, 20], [21, 22], [23, 24]]\n",
        "])\n",
        "\n",
        "# Example 2D array of shape (4, 3)\n",
        "b = np.array([\n",
        "    [1, 1, 1],\n",
        "    [2, 2, 2],\n",
        "    [3, 3, 3],\n",
        "    [4, 4, 4]\n",
        "])\n",
        "\n",
        "# Extracting the entire sub-array for this example\n",
        "sub_array = arr[:, :, :]\n",
        "\n",
        "# Subtracting the 2D array from each slice along the third axis\n",
        "# We need to expand the dimensions of b to match the 3D array shape for broadcasting\n",
        "result = sub_array - b[:, :, np.newaxis]\n",
        "\n",
        "print(\"Original 3D Array:\")\n",
        "print(arr)\n",
        "print(\"\\n2D Array to Subtract:\")\n",
        "print(b)\n",
        "print(\"\\nResultant Array after Subtracting 2D array from Each Slice:\")\n",
        "print(result)\n"
      ],
      "metadata": {
        "colab": {
          "base_uri": "https://localhost:8080/"
        },
        "id": "65UI3U2q31Di",
        "outputId": "c7135dd8-ae36-450e-b2e2-6aacb7bb6317"
      },
      "execution_count": 18,
      "outputs": [
        {
          "output_type": "stream",
          "name": "stdout",
          "text": [
            "Original 3D Array:\n",
            "[[[ 1  2]\n",
            "  [ 3  4]\n",
            "  [ 5  6]]\n",
            "\n",
            " [[ 7  8]\n",
            "  [ 9 10]\n",
            "  [11 12]]\n",
            "\n",
            " [[13 14]\n",
            "  [15 16]\n",
            "  [17 18]]\n",
            "\n",
            " [[19 20]\n",
            "  [21 22]\n",
            "  [23 24]]]\n",
            "\n",
            "2D Array to Subtract:\n",
            "[[1 1 1]\n",
            " [2 2 2]\n",
            " [3 3 3]\n",
            " [4 4 4]]\n",
            "\n",
            "Resultant Array after Subtracting 2D array from Each Slice:\n",
            "[[[ 0  1]\n",
            "  [ 2  3]\n",
            "  [ 4  5]]\n",
            "\n",
            " [[ 5  6]\n",
            "  [ 7  8]\n",
            "  [ 9 10]]\n",
            "\n",
            " [[10 11]\n",
            "  [12 13]\n",
            "  [14 15]]\n",
            "\n",
            " [[15 16]\n",
            "  [17 18]\n",
            "  [19 20]]]\n"
          ]
        }
      ]
    },
    {
      "cell_type": "markdown",
      "source": [
        "Given a 2D array, extract the diagonal elements and create a 1D array.\n"
      ],
      "metadata": {
        "id": "ABMzJbg-6gYF"
      }
    },
    {
      "cell_type": "code",
      "source": [
        "import numpy as np\n",
        "\n",
        "arr = np.array([\n",
        "    [1, 2, 3],\n",
        "    [4, 5, 6],\n",
        "    [7, 8, 9]\n",
        "])\n",
        "\n",
        "diagonal_elements = np.diag(arr)\n",
        "\n",
        "print(\"Original 2D Array:\")\n",
        "print(arr)\n",
        "print(\"\\nDiagonal Elements:\")\n",
        "print(diagonal_elements)\n"
      ],
      "metadata": {
        "colab": {
          "base_uri": "https://localhost:8080/"
        },
        "id": "skI3YlH14FfU",
        "outputId": "1cf7720f-90ac-4539-a1f0-ba900acc2866"
      },
      "execution_count": 19,
      "outputs": [
        {
          "output_type": "stream",
          "name": "stdout",
          "text": [
            "Original 2D Array:\n",
            "[[1 2 3]\n",
            " [4 5 6]\n",
            " [7 8 9]]\n",
            "\n",
            "Diagonal Elements:\n",
            "[1 5 9]\n"
          ]
        }
      ]
    },
    {
      "cell_type": "markdown",
      "source": [
        "Use slicing to reverse the order of elements in each row of a 2D array.\n"
      ],
      "metadata": {
        "id": "gfVHDtyj4ZBV"
      }
    },
    {
      "cell_type": "code",
      "source": [
        "import numpy as np\n",
        "\n",
        "arr = np.array([\n",
        "    [1, 2, 3, 4],\n",
        "    [5, 6, 7, 8],\n",
        "    [9, 10, 11, 12]\n",
        "])\n",
        "\n",
        "reversed_rows = arr[:, ::-1]\n",
        "\n",
        "print(\"Original 2D Array:\")\n",
        "print(arr)\n",
        "print(\"\\n2D Array with Reversed Rows:\")\n",
        "print(reversed_rows)\n"
      ],
      "metadata": {
        "colab": {
          "base_uri": "https://localhost:8080/"
        },
        "id": "Ll7rmVp-4FXJ",
        "outputId": "78802f8b-04f3-42aa-9995-0d114d5a6edb"
      },
      "execution_count": 20,
      "outputs": [
        {
          "output_type": "stream",
          "name": "stdout",
          "text": [
            "Original 2D Array:\n",
            "[[ 1  2  3  4]\n",
            " [ 5  6  7  8]\n",
            " [ 9 10 11 12]]\n",
            "\n",
            "2D Array with Reversed Rows:\n",
            "[[ 4  3  2  1]\n",
            " [ 8  7  6  5]\n",
            " [12 11 10  9]]\n"
          ]
        }
      ]
    },
    {
      "cell_type": "markdown",
      "source": [
        "Given a 3D array of shape (4, 5, 6), use slicing to extract a sub-array of shape (2, 3, 4) and then use broadcasting to add a 1D array of shape (4,) to each row along the third axis."
      ],
      "metadata": {
        "id": "0YxpZkzx4kt5"
      }
    },
    {
      "cell_type": "code",
      "source": [
        "import numpy as np\n",
        "\n",
        "\n",
        "arr = np.random.rand(4, 5, 6)\n",
        "\n",
        "sub_array = arr[:2, :3, :4]\n",
        "\n",
        "b = np.array([1, 2, 3, 4])\n",
        "\n",
        "b_reshaped = b.reshape(1, 1, 4)\n",
        "result = sub_array + b_reshaped\n",
        "\n",
        "print(\"Original 3D Array (Shape (4, 5, 6)):\")\n",
        "print(arr)\n",
        "print(\"\\nExtracted Sub-array (Shape (2, 3, 4)):\")\n",
        "print(sub_array)\n",
        "print(\"\\n1D Array to Add (Shape (4,)):\")\n",
        "print(b)\n",
        "print(\"\\nResultant Array after Adding 1D Array to Each Row Along the Third Axis:\")\n",
        "print(result)\n"
      ],
      "metadata": {
        "colab": {
          "base_uri": "https://localhost:8080/"
        },
        "id": "wsTusxss4frS",
        "outputId": "22cf0db0-e1e8-4f10-b064-3d1d4b499527"
      },
      "execution_count": 21,
      "outputs": [
        {
          "output_type": "stream",
          "name": "stdout",
          "text": [
            "Original 3D Array (Shape (4, 5, 6)):\n",
            "[[[0.63992102 0.14335329 0.94466892 0.52184832 0.41466194 0.26455561]\n",
            "  [0.77423369 0.45615033 0.56843395 0.0187898  0.6176355  0.61209572]\n",
            "  [0.616934   0.94374808 0.6818203  0.3595079  0.43703195 0.6976312 ]\n",
            "  [0.06022547 0.66676672 0.67063787 0.21038256 0.1289263  0.31542835]\n",
            "  [0.36371077 0.57019677 0.43860151 0.98837384 0.10204481 0.20887676]]\n",
            "\n",
            " [[0.16130952 0.65310833 0.2532916  0.46631077 0.24442559 0.15896958]\n",
            "  [0.11037514 0.65632959 0.13818295 0.19658236 0.36872517 0.82099323]\n",
            "  [0.09710128 0.83794491 0.09609841 0.97645947 0.4686512  0.97676109]\n",
            "  [0.60484552 0.73926358 0.03918779 0.28280696 0.12019656 0.2961402 ]\n",
            "  [0.11872772 0.31798318 0.41426299 0.0641475  0.69247212 0.56660145]]\n",
            "\n",
            " [[0.26538949 0.52324805 0.09394051 0.5759465  0.9292962  0.31856895]\n",
            "  [0.66741038 0.13179786 0.7163272  0.28940609 0.18319136 0.58651293]\n",
            "  [0.02010755 0.82894003 0.00469548 0.67781654 0.27000797 0.73519402]\n",
            "  [0.96218855 0.24875314 0.57615733 0.59204193 0.57225191 0.22308163]\n",
            "  [0.95274901 0.44712538 0.84640867 0.69947928 0.29743695 0.81379782]]\n",
            "\n",
            " [[0.39650574 0.8811032  0.58127287 0.88173536 0.69253159 0.72525428]\n",
            "  [0.50132438 0.95608363 0.6439902  0.42385505 0.60639321 0.0191932 ]\n",
            "  [0.30157482 0.66017354 0.29007761 0.61801543 0.4287687  0.13547406]\n",
            "  [0.29828233 0.56996491 0.59087276 0.57432525 0.65320082 0.65210327]\n",
            "  [0.43141844 0.8965466  0.36756187 0.43586493 0.89192336 0.80619399]]]\n",
            "\n",
            "Extracted Sub-array (Shape (2, 3, 4)):\n",
            "[[[0.63992102 0.14335329 0.94466892 0.52184832]\n",
            "  [0.77423369 0.45615033 0.56843395 0.0187898 ]\n",
            "  [0.616934   0.94374808 0.6818203  0.3595079 ]]\n",
            "\n",
            " [[0.16130952 0.65310833 0.2532916  0.46631077]\n",
            "  [0.11037514 0.65632959 0.13818295 0.19658236]\n",
            "  [0.09710128 0.83794491 0.09609841 0.97645947]]]\n",
            "\n",
            "1D Array to Add (Shape (4,)):\n",
            "[1 2 3 4]\n",
            "\n",
            "Resultant Array after Adding 1D Array to Each Row Along the Third Axis:\n",
            "[[[1.63992102 2.14335329 3.94466892 4.52184832]\n",
            "  [1.77423369 2.45615033 3.56843395 4.0187898 ]\n",
            "  [1.616934   2.94374808 3.6818203  4.3595079 ]]\n",
            "\n",
            " [[1.16130952 2.65310833 3.2532916  4.46631077]\n",
            "  [1.11037514 2.65632959 3.13818295 4.19658236]\n",
            "  [1.09710128 2.83794491 3.09609841 4.97645947]]]\n"
          ]
        }
      ]
    },
    {
      "cell_type": "markdown",
      "source": [
        "Create a 2D array and use both slicing and broadcasting to set the last column to the sum of the first two columns for each row."
      ],
      "metadata": {
        "id": "TEgqZ_5f43RZ"
      }
    },
    {
      "cell_type": "code",
      "source": [
        "import numpy as np\n",
        "\n",
        "arr = np.array([\n",
        "    [1, 2, 3],\n",
        "    [4, 5, 6],\n",
        "    [7, 8, 9]\n",
        "])\n",
        "\n",
        "print(\"Original 2D Array:\")\n",
        "print(arr)\n",
        "\n",
        "sum_first_two_columns = arr[:, 0] + arr[:, 1]\n",
        "\n",
        "arr[:, -1] = sum_first_two_columns\n",
        "\n",
        "print(\"\\nModified 2D Array with Last Column as the Sum of the First Two Columns:\")\n",
        "print(arr)\n"
      ],
      "metadata": {
        "colab": {
          "base_uri": "https://localhost:8080/"
        },
        "id": "JDCxqH704vdB",
        "outputId": "29576300-6d89-475e-e268-9db8584ae061"
      },
      "execution_count": 22,
      "outputs": [
        {
          "output_type": "stream",
          "name": "stdout",
          "text": [
            "Original 2D Array:\n",
            "[[1 2 3]\n",
            " [4 5 6]\n",
            " [7 8 9]]\n",
            "\n",
            "Modified 2D Array with Last Column as the Sum of the First Two Columns:\n",
            "[[ 1  2  3]\n",
            " [ 4  5  9]\n",
            " [ 7  8 15]]\n"
          ]
        }
      ]
    },
    {
      "cell_type": "markdown",
      "source": [
        "serial 20\n"
      ],
      "metadata": {
        "id": "aiYTEFlS5D-U"
      }
    },
    {
      "cell_type": "markdown",
      "source": [
        "Given a 2D array of shape (6, 6), extract a 2x2 sub-array starting from the element at position (1, 1).\n"
      ],
      "metadata": {
        "id": "aTh7V3H95HOF"
      }
    },
    {
      "cell_type": "code",
      "source": [
        "import numpy as np\n",
        "\n",
        "arr = np.array([\n",
        "    [ 1,  2,  3,  4,  5,  6],\n",
        "    [ 7,  8,  9, 10, 11, 12],\n",
        "    [13, 14, 15, 16, 17, 18],\n",
        "    [19, 20, 21, 22, 23, 24],\n",
        "    [25, 26, 27, 28, 29, 30],\n",
        "    [31, 32, 33, 34, 35, 36]\n",
        "])\n",
        "\n",
        "print(\"Original 2D Array:\")\n",
        "print(arr)\n",
        "\n",
        "sub_array = arr[1:3, 1:3]\n",
        "\n",
        "print(\"\\nExtracted 2x2 Sub-array:\")\n",
        "print(sub_array)\n"
      ],
      "metadata": {
        "colab": {
          "base_uri": "https://localhost:8080/"
        },
        "id": "Kp3JmDv34_QN",
        "outputId": "1fcafb5c-11a7-4279-cd4e-7aaf6ae001da"
      },
      "execution_count": 23,
      "outputs": [
        {
          "output_type": "stream",
          "name": "stdout",
          "text": [
            "Original 2D Array:\n",
            "[[ 1  2  3  4  5  6]\n",
            " [ 7  8  9 10 11 12]\n",
            " [13 14 15 16 17 18]\n",
            " [19 20 21 22 23 24]\n",
            " [25 26 27 28 29 30]\n",
            " [31 32 33 34 35 36]]\n",
            "\n",
            "Extracted 2x2 Sub-array:\n",
            "[[ 8  9]\n",
            " [14 15]]\n"
          ]
        }
      ]
    },
    {
      "cell_type": "markdown",
      "source": [
        "From a 3D array of shape (3, 2, 1), extract all elements in the first two rows and all columns of the second slice along the third axis."
      ],
      "metadata": {
        "id": "c3P_Xhvx6mqj"
      }
    },
    {
      "cell_type": "code",
      "source": [
        "import numpy as np\n",
        "\n",
        "\n",
        "arr = np.array([\n",
        "    [[ 1], [ 2]],\n",
        "    [[ 3], [ 4]],\n",
        "    [[ 5], [ 6]]\n",
        "])\n",
        "\n",
        "print(\"Original 3D Array:\")\n",
        "print(arr)\n",
        "\n",
        "\n",
        "try:\n",
        "    sub_array = arr[:2, :, 1]\n",
        "except IndexError as e:\n",
        "    print(\"\\nError: \", e)\n",
        "    sub_array = arr[:2, :, 0]\n",
        "\n",
        "print(\"\\nExtracted Elements (First Two Rows, Second Slice Along Third Axis):\")\n",
        "print(sub_array)\n"
      ],
      "metadata": {
        "colab": {
          "base_uri": "https://localhost:8080/"
        },
        "id": "kpf0TgTE6GWX",
        "outputId": "de5c881e-1bed-4844-d9dd-bd1ce520a2c6"
      },
      "execution_count": 24,
      "outputs": [
        {
          "output_type": "stream",
          "name": "stdout",
          "text": [
            "Original 3D Array:\n",
            "[[[1]\n",
            "  [2]]\n",
            "\n",
            " [[3]\n",
            "  [4]]\n",
            "\n",
            " [[5]\n",
            "  [6]]]\n",
            "\n",
            "Error:  index 1 is out of bounds for axis 2 with size 1\n",
            "\n",
            "Extracted Elements (First Two Rows, Second Slice Along Third Axis):\n",
            "[[1 2]\n",
            " [3 4]]\n"
          ]
        }
      ]
    },
    {
      "cell_type": "markdown",
      "source": [
        "Given an array of integers, use fancy indexing to extract elements at positions [1, 3, 4, 6].\n"
      ],
      "metadata": {
        "id": "OHpMBSG5CVWD"
      }
    },
    {
      "cell_type": "code",
      "source": [
        "import numpy as np\n",
        "\n",
        "arr = np.array([10, 20, 30, 40, 50, 60, 70, 80])\n",
        "\n",
        "indices = [1, 3, 4, 6]\n",
        "\n",
        "extracted_elements = arr[indices]\n",
        "\n",
        "print(\"Original Array:\")\n",
        "print(arr)\n",
        "\n",
        "print(\"\\nExtracted Elements at Positions [1, 3, 4, 6]:\")\n",
        "print(extracted_elements)\n"
      ],
      "metadata": {
        "colab": {
          "base_uri": "https://localhost:8080/"
        },
        "id": "r27ZtfmQCMGM",
        "outputId": "093e3ed9-cc4d-4ef8-daae-331768c21ebc"
      },
      "execution_count": 25,
      "outputs": [
        {
          "output_type": "stream",
          "name": "stdout",
          "text": [
            "Original Array:\n",
            "[10 20 30 40 50 60 70 80]\n",
            "\n",
            "Extracted Elements at Positions [1, 3, 4, 6]:\n",
            "[20 40 50 70]\n"
          ]
        }
      ]
    },
    {
      "cell_type": "markdown",
      "source": [
        "Given a 2D array, use fancy indexing to select rows [0, 2, 2] and columns [1, 3].\n"
      ],
      "metadata": {
        "id": "-5tZ2JduCWjj"
      }
    },
    {
      "cell_type": "code",
      "source": [
        "import numpy as np\n",
        "\n",
        "# Step 1: Create a 2D array\n",
        "arr = np.array([\n",
        "    [ 1,  2,  3,  4],\n",
        "    [ 5,  6,  7,  8],\n",
        "    [ 9, 10, 11, 12],\n",
        "    [13, 14, 15, 16]\n",
        "])\n",
        "\n",
        "# Step 2: Use fancy indexing to select rows [0, 2, 2] and columns [1, 3]\n",
        "rows = np.array([0, 2, 2])\n",
        "cols = np.array([1, 3])\n",
        "\n",
        "# Fancy indexing to get the elements at the specified rows and columns\n",
        "selected_elements = arr[rows[:, np.newaxis], cols]\n",
        "\n",
        "print(\"Original 2D Array:\")\n",
        "print(arr)\n",
        "\n",
        "print(\"\\nSelected Elements at Rows [0, 2, 2] and Columns [1, 3]:\")\n",
        "print(selected_elements)\n"
      ],
      "metadata": {
        "colab": {
          "base_uri": "https://localhost:8080/"
        },
        "id": "TZ09HNkxCuTk",
        "outputId": "8a28b47d-bcd4-4e5c-c7a9-96249a04d844"
      },
      "execution_count": 26,
      "outputs": [
        {
          "output_type": "stream",
          "name": "stdout",
          "text": [
            "Original 2D Array:\n",
            "[[ 1  2  3  4]\n",
            " [ 5  6  7  8]\n",
            " [ 9 10 11 12]\n",
            " [13 14 15 16]]\n",
            "\n",
            "Selected Elements at Rows [0, 2, 2] and Columns [1, 3]:\n",
            "[[ 2  4]\n",
            " [10 12]\n",
            " [10 12]]\n"
          ]
        }
      ]
    },
    {
      "cell_type": "markdown",
      "source": [
        "From a 1D array of random integers, extract all elements that are greater than 8.\n"
      ],
      "metadata": {
        "id": "hJ-Zp080CzlW"
      }
    },
    {
      "cell_type": "code",
      "source": [
        "import numpy as np\n",
        "\n",
        "\n",
        "np.random.seed(0)\n",
        "arr = np.random.randint(0, 15, size=10)\n",
        "\n",
        "selected_elements = arr[arr > 8]\n",
        "\n",
        "print(\"Original 1D Array:\")\n",
        "print(arr)\n",
        "\n",
        "print(\"\\nElements Greater Than 8:\")\n",
        "print(selected_elements)\n"
      ],
      "metadata": {
        "colab": {
          "base_uri": "https://localhost:8080/"
        },
        "id": "2dqBcD6nCvOx",
        "outputId": "037a4e45-4b23-4ae2-92c6-6bddd7037437"
      },
      "execution_count": 27,
      "outputs": [
        {
          "output_type": "stream",
          "name": "stdout",
          "text": [
            "Original 1D Array:\n",
            "[12  5  0  3 11  3  7  9  3  5]\n",
            "\n",
            "Elements Greater Than 8:\n",
            "[12 11  9]\n"
          ]
        }
      ]
    },
    {
      "cell_type": "markdown",
      "source": [
        "Given a 2D array of shape (6, 6), replace all elements greater than 13 with the value 0.\n"
      ],
      "metadata": {
        "id": "ArFwPjnjDAY2"
      }
    },
    {
      "cell_type": "code",
      "source": [
        "import numpy as np\n",
        "\n",
        "\n",
        "np.random.seed(0)\n",
        "arr = np.random.randint(0, 20, size=(6, 6))\n",
        "\n",
        "print(\"Original 2D Array:\")\n",
        "print(arr)\n",
        "\n",
        "mask = arr > 13\n",
        "\n",
        "arr[mask] = 0\n",
        "\n",
        "print(\"\\nModified 2D Array (Elements > 13 replaced with 0):\")\n",
        "print(arr)\n"
      ],
      "metadata": {
        "colab": {
          "base_uri": "https://localhost:8080/"
        },
        "id": "613mx4ldC6mu",
        "outputId": "338e0798-e2e2-4954-f08e-4cac1b5455d4"
      },
      "execution_count": 28,
      "outputs": [
        {
          "output_type": "stream",
          "name": "stdout",
          "text": [
            "Original 2D Array:\n",
            "[[12 15  0  3  3  7]\n",
            " [ 9 19 18  4  6 12]\n",
            " [ 1  6  7 14 17  5]\n",
            " [13  8  9 19 16 19]\n",
            " [ 5 15 15  0 18  3]\n",
            " [17 19 19 19 14  7]]\n",
            "\n",
            "Modified 2D Array (Elements > 13 replaced with 0):\n",
            "[[12  0  0  3  3  7]\n",
            " [ 9  0  0  4  6 12]\n",
            " [ 1  6  7  0  0  5]\n",
            " [13  8  9  0  0  0]\n",
            " [ 5  0  0  0  0  3]\n",
            " [ 0  0  0  0  0  7]]\n"
          ]
        }
      ]
    },
    {
      "cell_type": "markdown",
      "source": [
        "Add a 1D array of shape (3,) to each row of a 2D array of shape (4, 3).\n"
      ],
      "metadata": {
        "id": "0QRu9On-DSaN"
      }
    },
    {
      "cell_type": "code",
      "source": [
        "import numpy as np\n",
        "\n",
        "arr_2d = np.array([\n",
        "    [1, 2, 3],\n",
        "    [4, 5, 6],\n",
        "    [7, 8, 9],\n",
        "    [10, 11, 12]\n",
        "])\n",
        "\n",
        "arr_1d = np.array([10, 20, 30])\n",
        "\n",
        "result = arr_2d + arr_1d\n",
        "\n",
        "print(\"Original 2D Array:\")\n",
        "print(arr_2d)\n",
        "\n",
        "print(\"\\n1D Array to Add:\")\n",
        "print(arr_1d)\n",
        "\n",
        "print(\"\\nResult after Adding 1D Array to Each Row:\")\n",
        "print(result)\n"
      ],
      "metadata": {
        "colab": {
          "base_uri": "https://localhost:8080/"
        },
        "id": "02mSaLF2DIMs",
        "outputId": "c6efdceb-386b-4760-ff91-0bdeec4790b0"
      },
      "execution_count": 29,
      "outputs": [
        {
          "output_type": "stream",
          "name": "stdout",
          "text": [
            "Original 2D Array:\n",
            "[[ 1  2  3]\n",
            " [ 4  5  6]\n",
            " [ 7  8  9]\n",
            " [10 11 12]]\n",
            "\n",
            "1D Array to Add:\n",
            "[10 20 30]\n",
            "\n",
            "Result after Adding 1D Array to Each Row:\n",
            "[[11 22 33]\n",
            " [14 25 36]\n",
            " [17 28 39]\n",
            " [20 31 42]]\n"
          ]
        }
      ]
    },
    {
      "cell_type": "markdown",
      "source": [
        "Multiply a 2D array of shape (3, 3) by a 1D array of shape (3,).\n"
      ],
      "metadata": {
        "id": "fGYQ02HsEOAY"
      }
    },
    {
      "cell_type": "code",
      "source": [
        "import numpy as np\n",
        "\n",
        "arr_2d = np.array([\n",
        "    [1, 2, 3],\n",
        "    [4, 5, 6],\n",
        "    [7, 8, 9]\n",
        "])\n",
        "\n",
        "arr_1d = np.array([2, 3, 4])\n",
        "\n",
        "result = arr_2d * arr_1d\n",
        "\n",
        "print(\"Original 2D Array:\")\n",
        "print(arr_2d)\n",
        "\n",
        "print(\"\\n1D Array for Multiplication:\")\n",
        "print(arr_1d)\n",
        "\n",
        "print(\"\\nResult after Multiplying 2D Array by 1D Array:\")\n",
        "print(result)\n"
      ],
      "metadata": {
        "colab": {
          "base_uri": "https://localhost:8080/"
        },
        "id": "c9n-s5q1ENbe",
        "outputId": "96e4d641-6912-4867-f5bd-e44286b9b181"
      },
      "execution_count": 30,
      "outputs": [
        {
          "output_type": "stream",
          "name": "stdout",
          "text": [
            "Original 2D Array:\n",
            "[[1 2 3]\n",
            " [4 5 6]\n",
            " [7 8 9]]\n",
            "\n",
            "1D Array for Multiplication:\n",
            "[2 3 4]\n",
            "\n",
            "Result after Multiplying 2D Array by 1D Array:\n",
            "[[ 2  6 12]\n",
            " [ 8 15 24]\n",
            " [14 24 36]]\n"
          ]
        }
      ]
    },
    {
      "cell_type": "markdown",
      "source": [
        "Create two 2D arrays of shapes (3, 1) and (1, 4) respectively, and perform element-wise addition.\n"
      ],
      "metadata": {
        "id": "kvGfwOjeEpE1"
      }
    },
    {
      "cell_type": "code",
      "source": [
        "import numpy as np\n",
        "\n",
        "# Step 1: Create two 2D arrays of shapes (3, 1) and (1, 4)\n",
        "arr1 = np.array([[1], [2], [3]])  # shape (3, 1)\n",
        "arr2 = np.array([[10, 20, 30, 40]])  # shape (1, 4)\n",
        "\n",
        "# Step 2: Perform element-wise addition using broadcasting\n",
        "result = arr1 + arr2\n",
        "\n",
        "print(\"Array 1 (shape {}):\".format(arr1.shape))\n",
        "print(arr1)\n",
        "\n",
        "print(\"\\nArray 2 (shape {}):\".format(arr2.shape))\n",
        "print(arr2)\n",
        "\n",
        "print(\"\\nResult of Element-wise Addition:\")\n",
        "print(result)\n"
      ],
      "metadata": {
        "colab": {
          "base_uri": "https://localhost:8080/"
        },
        "id": "7VkiOeOOEnD5",
        "outputId": "818571e1-d54c-4400-d3d4-1fd7b78dedc3"
      },
      "execution_count": 31,
      "outputs": [
        {
          "output_type": "stream",
          "name": "stdout",
          "text": [
            "Array 1 (shape (3, 1)):\n",
            "[[1]\n",
            " [2]\n",
            " [3]]\n",
            "\n",
            "Array 2 (shape (1, 4)):\n",
            "[[10 20 30 40]]\n",
            "\n",
            "Result of Element-wise Addition:\n",
            "[[11 21 31 41]\n",
            " [12 22 32 42]\n",
            " [13 23 33 43]]\n"
          ]
        }
      ]
    },
    {
      "cell_type": "markdown",
      "source": [
        "Given a 3D array of shape (2, 3, 4), add a 2D array of shape (3, 4) to each 2D slice along the first axis.\n"
      ],
      "metadata": {
        "id": "3WIswEBWE2fJ"
      }
    },
    {
      "cell_type": "code",
      "source": [
        "import numpy as np\n",
        "\n",
        "arr_3d = np.array([\n",
        "    [[1, 2, 3, 4],\n",
        "     [5, 6, 7, 8],\n",
        "     [9, 10, 11, 12]],\n",
        "\n",
        "    [[13, 14, 15, 16],\n",
        "     [17, 18, 19, 20],\n",
        "     [21, 22, 23, 24]]\n",
        "])\n",
        "\n",
        "arr_2d = np.array([\n",
        "    [10, 20, 30, 40],\n",
        "    [50, 60, 70, 80],\n",
        "    [90, 100, 110, 120]\n",
        "])\n",
        "\n",
        "result = arr_3d + arr_2d[np.newaxis, :, :]\n",
        "\n",
        "print(\"Original 3D Array (shape {}):\".format(arr_3d.shape))\n",
        "print(arr_3d)\n",
        "\n",
        "print(\"\\n2D Array to Add (shape {}):\".format(arr_2d.shape))\n",
        "print(arr_2d)\n",
        "\n",
        "print(\"\\nResult after Adding 2D Array to Each 2D Slice:\")\n",
        "print(result)\n"
      ],
      "metadata": {
        "colab": {
          "base_uri": "https://localhost:8080/"
        },
        "id": "bq75Gd-KEyGj",
        "outputId": "f93e9241-3ea3-4186-dac8-d03f534c3284"
      },
      "execution_count": 32,
      "outputs": [
        {
          "output_type": "stream",
          "name": "stdout",
          "text": [
            "Original 3D Array (shape (2, 3, 4)):\n",
            "[[[ 1  2  3  4]\n",
            "  [ 5  6  7  8]\n",
            "  [ 9 10 11 12]]\n",
            "\n",
            " [[13 14 15 16]\n",
            "  [17 18 19 20]\n",
            "  [21 22 23 24]]]\n",
            "\n",
            "2D Array to Add (shape (3, 4)):\n",
            "[[ 10  20  30  40]\n",
            " [ 50  60  70  80]\n",
            " [ 90 100 110 120]]\n",
            "\n",
            "Result after Adding 2D Array to Each 2D Slice:\n",
            "[[[ 11  22  33  44]\n",
            "  [ 55  66  77  88]\n",
            "  [ 99 110 121 132]]\n",
            "\n",
            " [[ 23  34  45  56]\n",
            "  [ 67  78  89 100]\n",
            "  [111 122 133 144]]]\n"
          ]
        }
      ]
    },
    {
      "cell_type": "code",
      "source": [],
      "metadata": {
        "id": "Ja34igtAFADD"
      },
      "execution_count": 32,
      "outputs": []
    }
  ]
}