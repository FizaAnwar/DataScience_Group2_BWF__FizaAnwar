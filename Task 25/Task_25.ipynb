{
  "nbformat": 4,
  "nbformat_minor": 0,
  "metadata": {
    "colab": {
      "provenance": []
    },
    "kernelspec": {
      "name": "python3",
      "display_name": "Python 3"
    },
    "language_info": {
      "name": "python"
    }
  },
  "cells": [
    {
      "cell_type": "markdown",
      "source": [
        "🔴 Task 25-> Logistic Regression from scratch\n",
        "Logistic Regression from scratch involves building a classification model by implementing the logistic function and optimization algorithm manually. You start with defining the sigmoid function to model probabilities, then use a cost function (like cross-entropy) to measure prediction error. Optimization, typically using gradient descent, adjusts model weights to minimize the cost function and improve accuracy. This process helps you understand the core mechanics of logistic regression beyond using built-in libraries.\n"
      ],
      "metadata": {
        "id": "p7N74-3VZGYV"
      }
    },
    {
      "cell_type": "markdown",
      "source": [
        "Step 1: Define the Sigmoid Function"
      ],
      "metadata": {
        "id": "hB5SSG4aZKFG"
      }
    },
    {
      "cell_type": "code",
      "execution_count": 1,
      "metadata": {
        "id": "GEVK8NsPZkH4"
      },
      "outputs": [],
      "source": [
        "import numpy as np\n",
        "\n",
        "def sigmoid(z):\n",
        "    return 1 / (1 + np.exp(-z))\n"
      ]
    },
    {
      "cell_type": "markdown",
      "source": [
        "Step 2: Implement the cost function (Cross-entrophy Loss)"
      ],
      "metadata": {
        "id": "CgCj-E7KZT5W"
      }
    },
    {
      "cell_type": "code",
      "source": [
        "def compute_cost(X, y, weights):\n",
        "    m = len(y)\n",
        "    h = sigmoid(X @ weights)\n",
        "    cost = (-1/m) * (y.T @ np.log(h) + (1 - y).T @ np.log(1 - h))\n",
        "    return cost"
      ],
      "metadata": {
        "id": "dwoNXTYSZRMZ"
      },
      "execution_count": 2,
      "outputs": []
    },
    {
      "cell_type": "markdown",
      "source": [
        "Step 3: Implement the Gradient Descent"
      ],
      "metadata": {
        "id": "tr99WBJ1ZoVO"
      }
    },
    {
      "cell_type": "code",
      "source": [
        "def gradient_descent(X, y, weights, learning_rate, iterations):\n",
        "    m = len(y)\n",
        "    cost_history = np.zeros(iterations)\n",
        "\n",
        "    for i in range(iterations):\n",
        "        weights = weights - (learning_rate/m) * (X.T @ (sigmoid(X @ weights) - y))\n",
        "        cost_history[i] = compute_cost(X, y, weights)\n",
        "\n",
        "    return weights, cost_history"
      ],
      "metadata": {
        "id": "aFXMTl4EZnS8"
      },
      "execution_count": 3,
      "outputs": []
    },
    {
      "cell_type": "markdown",
      "source": [
        "Step 4: Build Logistic Regression Model"
      ],
      "metadata": {
        "id": "gCJ2DMOkZ0s5"
      }
    },
    {
      "cell_type": "code",
      "source": [
        "class LogisticRegression:\n",
        "    def __init__(self, learning_rate=0.01, iterations=1000):\n",
        "        self.learning_rate = learning_rate\n",
        "        self.iterations = iterations\n",
        "\n",
        "    def fit(self, X, y):\n",
        "        self.m, self.n = X.shape\n",
        "        self.weights = np.zeros(self.n)\n",
        "        self.cost_history = np.zeros(self.iterations)\n",
        "\n",
        "        self.weights, self.cost_history = gradient_descent(X, y, self.weights, self.learning_rate, self.iterations)\n",
        "\n",
        "    def predict_prob(self, X):\n",
        "        return sigmoid(X @ self.weights)\n",
        "\n",
        "    def predict(self, X):\n",
        "        return self.predict_prob(X) >= 0.5\n"
      ],
      "metadata": {
        "id": "oibR5o7uZxxV"
      },
      "execution_count": 4,
      "outputs": []
    },
    {
      "cell_type": "markdown",
      "source": [
        "Step 5 : Train the model"
      ],
      "metadata": {
        "id": "JwgHg8BqZ_g9"
      }
    },
    {
      "cell_type": "code",
      "source": [
        "from sklearn.model_selection import train_test_split\n",
        "from sklearn.preprocessing import StandardScaler\n",
        "\n",
        "# Generate some data (e.g., from sklearn's datasets)\n",
        "from sklearn.datasets import make_classification\n",
        "\n",
        "X, y = make_classification(n_samples=1000, n_features=10, n_classes=2, random_state=42)\n",
        "\n",
        "# Split the data\n",
        "X_train, X_test, y_train, y_test = train_test_split(X, y, test_size=0.2, random_state=42)\n",
        "\n",
        "# Feature scaling\n",
        "scaler = StandardScaler()\n",
        "X_train = scaler.fit_transform(X_train)\n",
        "X_test = scaler.transform(X_test)\n",
        "\n",
        "# Add intercept term to X (bias)\n",
        "X_train = np.hstack((np.ones((X_train.shape[0], 1)), X_train))\n",
        "X_test = np.hstack((np.ones((X_test.shape[0], 1)), X_test))\n",
        "\n",
        "# Train the model\n",
        "model = LogisticRegression(learning_rate=0.01, iterations=1000)\n",
        "model.fit(X_train, y_train)\n",
        "\n",
        "# Predictions\n",
        "predictions = model.predict(X_test)\n"
      ],
      "metadata": {
        "id": "yzLkbImfZ9AI"
      },
      "execution_count": 5,
      "outputs": []
    },
    {
      "cell_type": "markdown",
      "source": [
        "Step 6 : Evaluate the Model"
      ],
      "metadata": {
        "id": "eywa47EJaIjb"
      }
    },
    {
      "cell_type": "code",
      "source": [
        "from sklearn.metrics import accuracy_score\n",
        "\n",
        "accuracy = accuracy_score(y_test, predictions)\n",
        "print(f\"Accuracy: {accuracy * 100:.2f}%\")\n"
      ],
      "metadata": {
        "colab": {
          "base_uri": "https://localhost:8080/"
        },
        "id": "0x_5pc3EaFUP",
        "outputId": "0cd61b43-26b4-43bc-e3b1-c5bb51870466"
      },
      "execution_count": 6,
      "outputs": [
        {
          "output_type": "stream",
          "name": "stdout",
          "text": [
            "Accuracy: 83.00%\n"
          ]
        }
      ]
    },
    {
      "cell_type": "code",
      "source": [],
      "metadata": {
        "id": "s8AMHDKvaPnS"
      },
      "execution_count": null,
      "outputs": []
    }
  ]
}