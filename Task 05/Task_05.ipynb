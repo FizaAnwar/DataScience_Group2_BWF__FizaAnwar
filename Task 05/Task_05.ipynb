{
  "nbformat": 4,
  "nbformat_minor": 0,
  "metadata": {
    "colab": {
      "provenance": []
    },
    "kernelspec": {
      "name": "python3",
      "display_name": "Python 3"
    },
    "language_info": {
      "name": "python"
    }
  },
  "cells": [
    {
      "cell_type": "markdown",
      "source": [
        "IF THEN ELSE AND ELIF CONDITIONS\n"
      ],
      "metadata": {
        "id": "MayRnZyLQhMV"
      }
    },
    {
      "cell_type": "code",
      "execution_count": 1,
      "metadata": {
        "colab": {
          "base_uri": "https://localhost:8080/"
        },
        "id": "GQ1xI2HGPwaA",
        "outputId": "b106861a-6905-42ef-884b-8311636c2501"
      },
      "outputs": [
        {
          "output_type": "stream",
          "name": "stdout",
          "text": [
            "a is greater than b\n"
          ]
        }
      ],
      "source": [
        "a = 200\n",
        "b = 33\n",
        "if b > a:\n",
        "  print(\"b is greater than a\")\n",
        "elif a == b:\n",
        "  print(\"a and b are equal\")\n",
        "else:\n",
        "  print(\"a is greater than b\")"
      ]
    },
    {
      "cell_type": "code",
      "source": [
        "a=34\n",
        "b=67\n",
        "if b>a:\n",
        "  print(\"b is greater then a\")\n",
        "else:\n",
        "  print(\"b is  not greater than a\")"
      ],
      "metadata": {
        "colab": {
          "base_uri": "https://localhost:8080/"
        },
        "id": "7atrULcaQXbZ",
        "outputId": "ecaad5a6-d4c7-4dea-96a7-0cdb09305180"
      },
      "execution_count": 3,
      "outputs": [
        {
          "output_type": "stream",
          "name": "stdout",
          "text": [
            "b is greater then a\n"
          ]
        }
      ]
    },
    {
      "cell_type": "markdown",
      "source": [
        "Some loop mini projects:\n"
      ],
      "metadata": {
        "id": "hgRxn2O3Ssld"
      }
    },
    {
      "cell_type": "markdown",
      "source": [
        "Pattern 04"
      ],
      "metadata": {
        "id": "8fWEx_JCVDvq"
      }
    },
    {
      "cell_type": "code",
      "source": [
        "def right_angled_triangle(n):\n",
        "    for i in range(0, n + 1):\n",
        "        print('*' * i)\n",
        "\n",
        "\n",
        "right_angled_triangle(5)"
      ],
      "metadata": {
        "colab": {
          "base_uri": "https://localhost:8080/"
        },
        "id": "v1xagocDRHCf",
        "outputId": "d19b762d-ce99-4b3d-d496-97094204dbb4"
      },
      "execution_count": 5,
      "outputs": [
        {
          "output_type": "stream",
          "name": "stdout",
          "text": [
            "\n",
            "*\n",
            "**\n",
            "***\n",
            "****\n",
            "*****\n"
          ]
        }
      ]
    },
    {
      "cell_type": "markdown",
      "source": [
        "Pattern 01"
      ],
      "metadata": {
        "id": "-VmyvuFyV3DL"
      }
    },
    {
      "cell_type": "code",
      "source": [
        "def pyramid_pattern(n):\n",
        "    for i in range(n):\n",
        "        print(' ' * (n - i - 1) + '*' * (2 * i + 1))\n",
        "\n",
        "\n",
        "pyramid_pattern(5)\n"
      ],
      "metadata": {
        "colab": {
          "base_uri": "https://localhost:8080/"
        },
        "id": "vbl-jAZPU-7T",
        "outputId": "21ce0815-c51b-42f4-cf64-2f5055a77941"
      },
      "execution_count": 7,
      "outputs": [
        {
          "output_type": "stream",
          "name": "stdout",
          "text": [
            "    *\n",
            "   ***\n",
            "  *****\n",
            " *******\n",
            "*********\n"
          ]
        }
      ]
    },
    {
      "cell_type": "markdown",
      "source": [
        "Pattern 02"
      ],
      "metadata": {
        "id": "JlG0KztSmlGG"
      }
    },
    {
      "cell_type": "code",
      "source": [
        "def alphabet_pyramid(n):\n",
        "    for i in range(n):\n",
        "        print(' ' * (n - i - 1), end='')\n",
        "        for j in range(i + 1):\n",
        "            print(chr(65 + j), end=' ')\n",
        "        print()\n",
        "\n",
        "\n",
        "alphabet_pyramid(5)"
      ],
      "metadata": {
        "colab": {
          "base_uri": "https://localhost:8080/"
        },
        "id": "6OjKmgbVVfy7",
        "outputId": "64a98b98-5ba5-40e4-dfd6-e9f0c2438ef3"
      },
      "execution_count": 8,
      "outputs": [
        {
          "output_type": "stream",
          "name": "stdout",
          "text": [
            "    A \n",
            "   A B \n",
            "  A B C \n",
            " A B C D \n",
            "A B C D E \n"
          ]
        }
      ]
    },
    {
      "cell_type": "markdown",
      "source": [
        "Pattern 03"
      ],
      "metadata": {
        "id": "5haEa4bOmnj5"
      }
    },
    {
      "cell_type": "code",
      "source": [
        "def inverted_pyramid_pattern(n):\n",
        "    for i in range(n, 0, -1):\n",
        "        print(' ' * (n - i) + '*' * (2 * i - 1))\n",
        "\n",
        "# Example usage:\n",
        "inverted_pyramid_pattern(5)"
      ],
      "metadata": {
        "colab": {
          "base_uri": "https://localhost:8080/"
        },
        "id": "rpHFJ-rAWXpp",
        "outputId": "a01fdc23-c0c5-4693-bec6-cf2a34e8f38f"
      },
      "execution_count": 1,
      "outputs": [
        {
          "output_type": "stream",
          "name": "stdout",
          "text": [
            "*********\n",
            " *******\n",
            "  *****\n",
            "   ***\n",
            "    *\n"
          ]
        }
      ]
    },
    {
      "cell_type": "markdown",
      "source": [
        "Pattern 05"
      ],
      "metadata": {
        "id": "LCA8kvJLmpxg"
      }
    },
    {
      "cell_type": "code",
      "source": [
        "def increasing_number_pyramid(n):\n",
        "    num = 1\n",
        "    for i in range(1, n + 1):\n",
        "\n",
        "        print(' ' * (n - i), end='')\n",
        "\n",
        "        for j in range(1, i + 1):\n",
        "            print(num, end=' ')\n",
        "            num += 1\n",
        "        print()\n",
        "\n",
        "\n",
        "increasing_number_pyramid(5)"
      ],
      "metadata": {
        "colab": {
          "base_uri": "https://localhost:8080/"
        },
        "id": "OWkVyOhKkPeW",
        "outputId": "c9a76f5b-d23a-441c-c87d-160661bd32cf"
      },
      "execution_count": 2,
      "outputs": [
        {
          "output_type": "stream",
          "name": "stdout",
          "text": [
            "    1 \n",
            "   2 3 \n",
            "  4 5 6 \n",
            " 7 8 9 10 \n",
            "11 12 13 14 15 \n"
          ]
        }
      ]
    },
    {
      "cell_type": "code",
      "source": [],
      "metadata": {
        "id": "ZBH23bUmnjFO"
      },
      "execution_count": null,
      "outputs": []
    }
  ]
}