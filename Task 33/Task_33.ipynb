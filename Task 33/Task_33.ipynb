{
  "nbformat": 4,
  "nbformat_minor": 0,
  "metadata": {
    "colab": {
      "provenance": []
    },
    "kernelspec": {
      "name": "python3",
      "display_name": "Python 3"
    },
    "language_info": {
      "name": "python"
    }
  },
  "cells": [
    {
      "cell_type": "markdown",
      "source": [
        "🔴 Task 33-> Neural Networks Basics (Perceptron, Activation Functions)\n",
        "Neural networks, inspired by the human brain, consist of interconnected layers of neurons. A perceptron, the simplest neural network, uses a weighted sum of inputs and an activation function to produce an output. Activation functions, like sigmoid and ReLU, introduce non-linearity, allowing the network to learn complex patterns. Make a simple neural network from scratch for a regression task, the Mean Squared Error (MSE) measures prediction accuracy, while gradient descent optimizes the model's weights to minimize this error. A basic neural network with one input layer, one hidden layer, and one output layer can effectively perform regression by using these principles."
      ],
      "metadata": {
        "id": "iflyVe8DbtC1"
      }
    },
    {
      "cell_type": "markdown",
      "source": [
        " Import Libraries and intial Parameters"
      ],
      "metadata": {
        "id": "zVOTvVztdw53"
      }
    },
    {
      "cell_type": "code",
      "execution_count": 1,
      "metadata": {
        "id": "87kbXOfZbsJN"
      },
      "outputs": [],
      "source": [
        "import numpy as np\n",
        "\n",
        "# Seed for reproducibility\n",
        "np.random.seed(42)\n",
        "\n",
        "# Define the architecture\n",
        "input_size = 1  # Number of input features\n",
        "hidden_size = 10  # Number of neurons in the hidden layer\n",
        "output_size = 1 # Single output for regression\n",
        "\n",
        "# Initialize weights and biases\n",
        "W1 = np.random.randn(input_size, hidden_size)\n",
        "b1 = np.zeros((1, hidden_size))\n",
        "W2 = np.random.randn(hidden_size, output_size)\n",
        "b2 = np.zeros((1, output_size))\n",
        "\n",
        "# Learning rate\n",
        "learning_rate = 0.01\n",
        "\n"
      ]
    },
    {
      "cell_type": "markdown",
      "source": [
        "Define Activation Function and its derivative"
      ],
      "metadata": {
        "id": "BBqDI1Nmg-mI"
      }
    },
    {
      "cell_type": "code",
      "source": [
        "# Activation functions and derivatives\n",
        "def relu(x):\n",
        "    return np.maximum(0, x)\n",
        "\n",
        "def relu_derivative(x):\n",
        "    return np.where(x > 0, 1, 0)"
      ],
      "metadata": {
        "id": "lqBa6JZMg4Ng"
      },
      "execution_count": 2,
      "outputs": []
    },
    {
      "cell_type": "markdown",
      "source": [
        "Define forward pass"
      ],
      "metadata": {
        "id": "0SE6gPZ6hWel"
      }
    },
    {
      "cell_type": "code",
      "source": [
        "# Forward pass\n",
        "def forward(X):\n",
        "    Z1 = np.dot(X, W1) + b1\n",
        "    A1 = relu(Z1)\n",
        "    Z2 = np.dot(A1, W2) + b2\n",
        "    return Z1, A1, Z2"
      ],
      "metadata": {
        "id": "pfxl2_6PhUdj"
      },
      "execution_count": 3,
      "outputs": []
    },
    {
      "cell_type": "markdown",
      "source": [
        "Define loss function"
      ],
      "metadata": {
        "id": "xQBitjxkHwd-"
      }
    },
    {
      "cell_type": "code",
      "source": [
        "# Loss function (MSE)\n",
        "def mse(y_true, y_pred):\n",
        "    return np.mean((y_true - y_pred) ** 2)"
      ],
      "metadata": {
        "id": "AXhaw3vhHv4j"
      },
      "execution_count": 4,
      "outputs": []
    },
    {
      "cell_type": "markdown",
      "source": [
        "Define Backward Pass"
      ],
      "metadata": {
        "id": "-ZdIembaIANe"
      }
    },
    {
      "cell_type": "code",
      "source": [
        "# Backward pass (Gradient Calculation)\n",
        "def backward(X, y, Z1, A1, Z2):\n",
        "    dZ2 = Z2 - y\n",
        "    dW2 = np.dot(A1.T, dZ2) / X.shape[0]\n",
        "    db2 = np.sum(dZ2, axis=0, keepdims=True) / X.shape[0]\n",
        "\n",
        "    dA1 = np.dot(dZ2, W2.T)\n",
        "    dZ1 = dA1 * relu_derivative(Z1)\n",
        "    dW1 = np.dot(X.T, dZ1) / X.shape[0]\n",
        "    db1 = np.sum(dZ1, axis=0, keepdims=True) / X.shape[0]\n",
        "\n",
        "    return dW1, db1, dW2, db2"
      ],
      "metadata": {
        "id": "NVoArr8_IE7B"
      },
      "execution_count": 5,
      "outputs": []
    },
    {
      "cell_type": "markdown",
      "source": [
        "Step 6: Update Weights Using Gradient Descent"
      ],
      "metadata": {
        "id": "1mRhqMSoIWDe"
      }
    },
    {
      "cell_type": "code",
      "source": [
        "# Weight update\n",
        "def update_weights(dW1, db1, dW2, db2):\n",
        "    global W1, b1, W2, b2\n",
        "    W1 -= learning_rate * dW1\n",
        "    b1 -= learning_rate * db1\n",
        "    W2 -= learning_rate * dW2\n",
        "    b2 -= learning_rate * db2"
      ],
      "metadata": {
        "id": "LMINpbgyIXIZ"
      },
      "execution_count": 6,
      "outputs": []
    },
    {
      "cell_type": "markdown",
      "source": [
        "Step 7:Training Loop"
      ],
      "metadata": {
        "id": "Eas97qo9Ixul"
      }
    },
    {
      "cell_type": "code",
      "source": [
        "# Training loop\n",
        "def train(X, y, epochs=1000):\n",
        "    for epoch in range(epochs):\n",
        "        Z1, A1, Z2 = forward(X)\n",
        "        loss = mse(y, Z2)\n",
        "        dW1, db1, dW2, db2 = backward(X, y, Z1, A1, Z2)\n",
        "        update_weights(dW1, db1, dW2, db2)\n",
        "        if epoch % 100 == 0:\n",
        "            print(f'Epoch {epoch}, Loss: {loss:.4f}')"
      ],
      "metadata": {
        "id": "ivzZvcONIxYx"
      },
      "execution_count": 7,
      "outputs": []
    },
    {
      "cell_type": "markdown",
      "source": [
        "Step 8: Example usage"
      ],
      "metadata": {
        "id": "2nzSCKYeJsDC"
      }
    },
    {
      "cell_type": "code",
      "source": [
        "# Example usage with synthetic data\n",
        "X = np.random.rand(100, 1)\n",
        "y = 3 * X + 2 + np.random.randn(100, 1) * 0.1  # Linear relation with noise\n",
        "\n",
        "train(X, y, epochs=1000)\n",
        "\n",
        "X_test = np.array([[1.5]])\n",
        "_, _, y_pred = forward(X_test)\n",
        "print(f'Predicted value for input {X_test[0][0]}: {y_pred[0][0]}')\n"
      ],
      "metadata": {
        "colab": {
          "base_uri": "https://localhost:8080/"
        },
        "id": "noubn8c1Jvrw",
        "outputId": "2148e3bd-53a7-4fb9-a5d8-29ea81ea672f"
      },
      "execution_count": 8,
      "outputs": [
        {
          "output_type": "stream",
          "name": "stdout",
          "text": [
            "Epoch 0, Loss: 41.5494\n",
            "Epoch 100, Loss: 0.0677\n",
            "Epoch 200, Loss: 0.0404\n",
            "Epoch 300, Loss: 0.0256\n",
            "Epoch 400, Loss: 0.0176\n",
            "Epoch 500, Loss: 0.0133\n",
            "Epoch 600, Loss: 0.0111\n",
            "Epoch 700, Loss: 0.0100\n",
            "Epoch 800, Loss: 0.0094\n",
            "Epoch 900, Loss: 0.0091\n",
            "Predicted value for input 1.5: 5.248387085784987\n"
          ]
        }
      ]
    },
    {
      "cell_type": "code",
      "source": [],
      "metadata": {
        "id": "zR4gwt_BKG87"
      },
      "execution_count": null,
      "outputs": []
    }
  ]
}