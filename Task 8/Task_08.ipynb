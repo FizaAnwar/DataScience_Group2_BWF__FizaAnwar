{
  "nbformat": 4,
  "nbformat_minor": 0,
  "metadata": {
    "colab": {
      "provenance": []
    },
    "kernelspec": {
      "name": "python3",
      "display_name": "Python 3"
    },
    "language_info": {
      "name": "python"
    }
  },
  "cells": [
    {
      "cell_type": "markdown",
      "source": [
        "List Practice\n"
      ],
      "metadata": {
        "id": "PB0wvX7DEHFF"
      }
    },
    {
      "cell_type": "code",
      "execution_count": 1,
      "metadata": {
        "colab": {
          "base_uri": "https://localhost:8080/"
        },
        "id": "hPijwWD3D82T",
        "outputId": "526b700f-05dc-4283-9953-b782be7f4911"
      },
      "outputs": [
        {
          "output_type": "stream",
          "name": "stdout",
          "text": [
            "[1, 2, 3, 4]\n"
          ]
        }
      ],
      "source": [
        "my_list = [1, 2, 3, 4]\n",
        "print(my_list)\n"
      ]
    },
    {
      "cell_type": "code",
      "source": [
        "first_element = my_list[0]\n",
        "print(first_element)\n"
      ],
      "metadata": {
        "colab": {
          "base_uri": "https://localhost:8080/"
        },
        "id": "cYMsGArwEGQW",
        "outputId": "45789970-1ac2-4679-dd5f-5d0f0d330aa9"
      },
      "execution_count": 2,
      "outputs": [
        {
          "output_type": "stream",
          "name": "stdout",
          "text": [
            "1\n"
          ]
        }
      ]
    },
    {
      "cell_type": "code",
      "source": [
        "my_list[1] = 5\n",
        "print(my_list)\n"
      ],
      "metadata": {
        "colab": {
          "base_uri": "https://localhost:8080/"
        },
        "id": "OKANjmY_EM8S",
        "outputId": "48e06abc-02cf-4717-d805-ea8b657ec737"
      },
      "execution_count": 3,
      "outputs": [
        {
          "output_type": "stream",
          "name": "stdout",
          "text": [
            "[1, 5, 3, 4]\n"
          ]
        }
      ]
    },
    {
      "cell_type": "code",
      "source": [
        "my_list.append(6)\n",
        "print(my_list)\n"
      ],
      "metadata": {
        "colab": {
          "base_uri": "https://localhost:8080/"
        },
        "id": "P2XNllWKEP1g",
        "outputId": "4238e43b-fed1-44f9-b099-d4ca3c7d0431"
      },
      "execution_count": 4,
      "outputs": [
        {
          "output_type": "stream",
          "name": "stdout",
          "text": [
            "[1, 5, 3, 4, 6]\n"
          ]
        }
      ]
    },
    {
      "cell_type": "code",
      "source": [
        "my_list.remove(3)\n",
        "print(my_list)\n"
      ],
      "metadata": {
        "colab": {
          "base_uri": "https://localhost:8080/"
        },
        "id": "zv_wMsQREU_q",
        "outputId": "76a94cad-a324-447e-f46c-9fbffd256838"
      },
      "execution_count": 5,
      "outputs": [
        {
          "output_type": "stream",
          "name": "stdout",
          "text": [
            "[1, 5, 4, 6]\n"
          ]
        }
      ]
    },
    {
      "cell_type": "markdown",
      "source": [
        "Tuples"
      ],
      "metadata": {
        "id": "OsST_fPTEddC"
      }
    },
    {
      "cell_type": "code",
      "source": [
        "my_tuple = (1, 2, 3, 4)\n",
        "print(my_tuple)\n"
      ],
      "metadata": {
        "colab": {
          "base_uri": "https://localhost:8080/"
        },
        "id": "fwMh2UfLEaM8",
        "outputId": "46176740-7a74-4c21-f359-f846c80c7cf4"
      },
      "execution_count": 6,
      "outputs": [
        {
          "output_type": "stream",
          "name": "stdout",
          "text": [
            "(1, 2, 3, 4)\n"
          ]
        }
      ]
    },
    {
      "cell_type": "code",
      "source": [
        "first_element = my_tuple[0]\n",
        "print(first_element)\n"
      ],
      "metadata": {
        "colab": {
          "base_uri": "https://localhost:8080/"
        },
        "id": "gmGnKzXiEiPs",
        "outputId": "ba48ef53-9c18-4253-b5fe-755d4778d2d2"
      },
      "execution_count": 7,
      "outputs": [
        {
          "output_type": "stream",
          "name": "stdout",
          "text": [
            "1\n"
          ]
        }
      ]
    },
    {
      "cell_type": "markdown",
      "source": [
        "Sets"
      ],
      "metadata": {
        "id": "3Julwl5nEqCE"
      }
    },
    {
      "cell_type": "code",
      "source": [
        "my_set = {1, 2, 3, 4}\n",
        "print(my_set)\n"
      ],
      "metadata": {
        "colab": {
          "base_uri": "https://localhost:8080/"
        },
        "id": "XJWIGh-dEmFH",
        "outputId": "2e458cd6-36e1-4359-d2ee-82d27160d031"
      },
      "execution_count": 8,
      "outputs": [
        {
          "output_type": "stream",
          "name": "stdout",
          "text": [
            "{1, 2, 3, 4}\n"
          ]
        }
      ]
    },
    {
      "cell_type": "code",
      "source": [
        "my_set.add(5)\n",
        "print(my_set)\n"
      ],
      "metadata": {
        "colab": {
          "base_uri": "https://localhost:8080/"
        },
        "id": "N-Ksvv-NEupz",
        "outputId": "8e603d7e-1407-4f31-9e02-cca3be28ed40"
      },
      "execution_count": 9,
      "outputs": [
        {
          "output_type": "stream",
          "name": "stdout",
          "text": [
            "{1, 2, 3, 4, 5}\n"
          ]
        }
      ]
    },
    {
      "cell_type": "code",
      "source": [
        "my_set.remove(2)\n",
        "print(my_set)\n"
      ],
      "metadata": {
        "colab": {
          "base_uri": "https://localhost:8080/"
        },
        "id": "2SkbPjGzEyn2",
        "outputId": "e1ef315d-ce05-4417-d30c-7f13a0b9d40a"
      },
      "execution_count": 10,
      "outputs": [
        {
          "output_type": "stream",
          "name": "stdout",
          "text": [
            "{1, 3, 4, 5}\n"
          ]
        }
      ]
    },
    {
      "cell_type": "code",
      "source": [
        "my_set.add(3)  # Adding a duplicate element\n",
        "print(my_set)\n"
      ],
      "metadata": {
        "colab": {
          "base_uri": "https://localhost:8080/"
        },
        "id": "q47h-p1BE2Z3",
        "outputId": "2f67d694-41ae-4abf-be9c-70626d2b901e"
      },
      "execution_count": 11,
      "outputs": [
        {
          "output_type": "stream",
          "name": "stdout",
          "text": [
            "{1, 3, 4, 5}\n"
          ]
        }
      ]
    },
    {
      "cell_type": "markdown",
      "source": [
        "Dictionaries"
      ],
      "metadata": {
        "id": "6SI96iIBE_Gt"
      }
    },
    {
      "cell_type": "code",
      "source": [
        "my_dict = {'a': 1, 'b': 2, 'c': 3}\n",
        "print(my_dict)\n"
      ],
      "metadata": {
        "colab": {
          "base_uri": "https://localhost:8080/"
        },
        "id": "D52KEcJLE5l_",
        "outputId": "a900f63c-7884-43ed-ca53-6ea57d4863c6"
      },
      "execution_count": 12,
      "outputs": [
        {
          "output_type": "stream",
          "name": "stdout",
          "text": [
            "{'a': 1, 'b': 2, 'c': 3}\n"
          ]
        }
      ]
    },
    {
      "cell_type": "code",
      "source": [
        "value_a = my_dict['a']\n",
        "print(value_a)\n"
      ],
      "metadata": {
        "colab": {
          "base_uri": "https://localhost:8080/"
        },
        "id": "yOwjVs06FC_t",
        "outputId": "d5c4a77b-12c2-467c-f2a5-e3aabc14860a"
      },
      "execution_count": 13,
      "outputs": [
        {
          "output_type": "stream",
          "name": "stdout",
          "text": [
            "1\n"
          ]
        }
      ]
    },
    {
      "cell_type": "code",
      "source": [
        "my_dict['b'] = 4\n",
        "print(my_dict)\n"
      ],
      "metadata": {
        "colab": {
          "base_uri": "https://localhost:8080/"
        },
        "id": "2t3qoef9FGMm",
        "outputId": "35a66bf3-5a19-4ff3-a7d3-28cb978891d3"
      },
      "execution_count": 14,
      "outputs": [
        {
          "output_type": "stream",
          "name": "stdout",
          "text": [
            "{'a': 1, 'b': 4, 'c': 3}\n"
          ]
        }
      ]
    },
    {
      "cell_type": "code",
      "source": [
        "my_dict['d'] = 5\n",
        "print(my_dict)\n"
      ],
      "metadata": {
        "colab": {
          "base_uri": "https://localhost:8080/"
        },
        "id": "mvXbVxv4FJfI",
        "outputId": "b9acf31f-ceb8-427a-9409-a6b7d49497cb"
      },
      "execution_count": 15,
      "outputs": [
        {
          "output_type": "stream",
          "name": "stdout",
          "text": [
            "{'a': 1, 'b': 4, 'c': 3, 'd': 5}\n"
          ]
        }
      ]
    },
    {
      "cell_type": "code",
      "source": [
        "del my_dict['c']\n",
        "print(my_dict)\n"
      ],
      "metadata": {
        "colab": {
          "base_uri": "https://localhost:8080/"
        },
        "id": "bVv4LtNwFQRl",
        "outputId": "70eba4b9-9c2a-499c-b0ed-d2b7ce3bba2a"
      },
      "execution_count": 16,
      "outputs": [
        {
          "output_type": "stream",
          "name": "stdout",
          "text": [
            "{'a': 1, 'b': 4, 'd': 5}\n"
          ]
        }
      ]
    },
    {
      "cell_type": "markdown",
      "source": [
        "Practical Mini Project: Inventory Management System"
      ],
      "metadata": {
        "id": "_mFp8UzjFo66"
      }
    },
    {
      "cell_type": "code",
      "source": [
        "\n",
        "inventory = {}\n",
        "categories = set()\n",
        "\n",
        "def add_product(name, category, stock):\n",
        "    if name in inventory:\n",
        "        print(f\"Product '{name}' already exists.\")\n",
        "        return\n",
        "    inventory[name] = {'category': category, 'stock': stock}\n",
        "    categories.add(category)\n",
        "    print(f\"Product '{name}' added successfully.\")\n",
        "\n",
        "\n",
        "def update_stock(name, stock):\n",
        "    if name not in inventory:\n",
        "        print(f\"Product '{name}' does not exist.\")\n",
        "        return\n",
        "    inventory[name]['stock'] = stock\n",
        "    print(f\"Stock for '{name}' updated to {stock}.\")\n",
        "\n",
        "\n",
        "def remove_product(name):\n",
        "    if name not in inventory:\n",
        "        print(f\"Product '{name}' does not exist.\")\n",
        "        return\n",
        "    category = inventory[name]['category']\n",
        "    del inventory[name]\n",
        "\n",
        "    if not any(prod['category'] == category for prod in inventory.values()):\n",
        "        categories.remove(category)\n",
        "    print(f\"Product '{name}' removed successfully.\")\n",
        "\n",
        "\n",
        "def view_products_in_category(category):\n",
        "    products = [name for name, details in inventory.items() if details['category'] == category]\n",
        "    if not products:\n",
        "        print(f\"No products found in category '{category}'.\")\n",
        "        return\n",
        "    print(f\"Products in category '{category}': {products}\")\n",
        "\n",
        "\n",
        "def view_total_stock_in_category(category):\n",
        "    total_stock = sum(details['stock'] for details in inventory.values() if details['category'] == category)\n",
        "    print(f\"Total stock in category '{category}': {total_stock}\")\n",
        "\n",
        "\n",
        "add_product(\"Laptop\", \"Electronics\", 10)\n",
        "add_product(\"Phone\", \"Electronics\", 20)\n",
        "add_product(\"Shirt\", \"Clothing\", 50)\n",
        "\n",
        "update_stock(\"Laptop\", 15)\n",
        "\n",
        "view_products_in_category(\"Electronics\")\n",
        "view_total_stock_in_category(\"Electronics\")\n",
        "\n",
        "remove_product(\"Shirt\")\n",
        "view_products_in_category(\"Clothing\")\n"
      ],
      "metadata": {
        "colab": {
          "base_uri": "https://localhost:8080/"
        },
        "id": "-AlVMY91FTXQ",
        "outputId": "859b0927-9970-42ae-8609-3efaa496c60d"
      },
      "execution_count": 18,
      "outputs": [
        {
          "output_type": "stream",
          "name": "stdout",
          "text": [
            "Product 'Laptop' added successfully.\n",
            "Product 'Phone' added successfully.\n",
            "Product 'Shirt' added successfully.\n",
            "Stock for 'Laptop' updated to 15.\n",
            "Products in category 'Electronics': ['Laptop', 'Phone']\n",
            "Total stock in category 'Electronics': 35\n",
            "Product 'Shirt' removed successfully.\n",
            "No products found in category 'Clothing'.\n"
          ]
        }
      ]
    },
    {
      "cell_type": "code",
      "source": [],
      "metadata": {
        "id": "F6I9dy6UFXg3"
      },
      "execution_count": null,
      "outputs": []
    }
  ]
}